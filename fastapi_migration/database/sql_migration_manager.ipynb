{
 "cells": [
  {
   "metadata": {},
   "cell_type": "code",
   "source": [
    "# Create settings instance\n",
    "from project_settings import Settings\n",
    "settings = Settings()\n",
    "print(f\"Loaded settings: {settings}\")\n"
   ],
   "id": "72759bb3caa3b8f4",
   "outputs": [],
   "execution_count": null
  },
  {
   "metadata": {},
   "cell_type": "code",
   "source": [
    "# models.py\n",
    "from sqlalchemy import Column, Integer, String\n",
    "from sqlalchemy.ext.declarative import declarative_base\n",
    "\n",
    "Base = declarative_base()\n",
    "\n",
    "class TestItem(Base):\n",
    "    __tablename__ = \"test_items\"\n",
    "\n",
    "    id = Column(Integer, primary_key=True, index=True)\n",
    "    name = Column(String, nullable=False)\n",
    "\n",
    "from google_session import SyncSessionLocal  # assuming this creates your engine/session\n",
    "\n",
    "# Access the same engine used in SyncSessionLocal\n",
    "# If SyncSessionLocal is a sessionmaker(engine), you can get the engine from it like:\n",
    "engine = SyncSessionLocal.kw[\"bind\"]  # Only works if it's initialized with `bind=engine`\n",
    "\n",
    "# Or directly if you can import engine from wherever it's defined\n",
    "# from google_session import engine\n",
    "\n",
    "# Create tables\n",
    "Base.metadata.create_all(bind=engine)\n",
    "\n",
    "print(\"Table created successfully.\")"
   ],
   "id": "86d58c714f2c1ef0",
   "outputs": [],
   "execution_count": null
  },
  {
   "metadata": {
    "ExecuteTime": {
     "end_time": "2025-04-11T22:43:39.215809Z",
     "start_time": "2025-04-11T22:43:38.872223Z"
    }
   },
   "cell_type": "code",
   "source": [
    "# drop_table_test.py\n",
    "from google_session import SyncSessionLocal  # or import engine directly if available\n",
    "\n",
    "# Get the engine from the sessionmaker\n",
    "engine = SyncSessionLocal.kw[\"bind\"]  # Only works if SyncSessionLocal is sessionmaker(bind=engine)\n",
    "\n",
    "# Drop the tables\n",
    "Base.metadata.drop_all(bind=engine)\n",
    "\n",
    "print(\"Table(s) dropped successfully.\")"
   ],
   "id": "dcfa2256704746a8",
   "outputs": [
    {
     "name": "stdout",
     "output_type": "stream",
     "text": [
      "Table(s) dropped successfully.\n"
     ]
    }
   ],
   "execution_count": 5
  },
  {
   "metadata": {},
   "cell_type": "code",
   "source": [
    "# Get the engine from the sessionmaker\n",
    "engine = SyncSessionLocal.kw[\"bind\"]  # Only works if SyncSessionLocal is sessionmaker(bind=engine)\n",
    "\n",
    "# Drop the tables\n",
    "Base.metadata.drop_all(bind=engine)\n",
    "\n",
    "print(\"Table(s) dropped successfully.\")"
   ],
   "id": "cddde95602c9fee7",
   "outputs": [],
   "execution_count": null
  },
  {
   "metadata": {},
   "cell_type": "code",
   "source": [
    "from dependencies import get_db\n",
    "db = get_db()\n"
   ],
   "id": "82733c274dffd44e",
   "outputs": [],
   "execution_count": null
  },
  {
   "cell_type": "code",
   "id": "initial_id",
   "metadata": {
    "collapsed": true
   },
   "source": [
    "import os\n",
    "import logging\n",
    "import sqlalchemy\n",
    "from sqlalchemy.ext.asyncio import AsyncSession\n",
    "from sqlalchemy.ext.declarative import declarative_base\n",
    "from sqlalchemy.orm import sessionmaker\n",
    "\n",
    "from google.cloud.sql.connector import Connector, IPTypes\n",
    "import pg8000\n",
    "\n",
    "_engine = None\n",
    "\n",
    "def get_db_engine() -> sqlalchemy.engine.base.Engine:\n",
    "    \"\"\"\n",
    "    Returns a global SQLAlchemy engine instance with connection pooling.\n",
    "\n",
    "    This creates a singleton engine that can be reused across requests,\n",
    "    improving performance by avoiding repeated connection establishment.\n",
    "\n",
    "    Returns:\n",
    "        SQLAlchemy engine with connection pooling\n",
    "    \"\"\"\n",
    "    global _engine\n",
    "\n",
    "    if _engine is not None:\n",
    "        # Return existing engine if already created\n",
    "        return _engine\n",
    "\n",
    "    # Check if we're running in GCP environment\n",
    "    if os.environ.get(\"INSTANCE_CONNECTION_NAME\"):\n",
    "        # Create Cloud SQL connection using the connector\n",
    "        instance_connection_name = settings.INSTANCE_CONNECTION_NAME\n",
    "        db_user = settings.DB_USER\n",
    "        db_pass = settings.DB_PASS\n",
    "        db_name = settings.DB_NAME\n",
    "        # db_user = os.environ.get(\"DB_USER\", settings.DB_USER)\n",
    "        # db_pass = os.environ.get(\"DB_PASS\", settings.DB_PASS)\n",
    "        # db_name = os.environ.get(\"DB_NAME\", settings.DB_NAME)\n",
    "\n",
    "        ip_type = IPTypes.PRIVATE if os.environ.get(\"PRIVATE_IP\") else IPTypes.PUBLIC\n",
    "\n",
    "        connector = Connector(refresh_strategy=\"LAZY\")\n",
    "\n",
    "        def getconn() -> pg8000.dbapi.Connection:\n",
    "            conn = connector.connect(\n",
    "                instance_connection_name,\n",
    "                \"pg8000\",\n",
    "                user=db_user,\n",
    "                password=db_pass,\n",
    "                db=db_name,\n",
    "                ip_type=ip_type,\n",
    "            )\n",
    "            return conn\n",
    "\n",
    "        # Configure pooling parameters for better performance\n",
    "        _engine = sqlalchemy.create_engine(\n",
    "            \"postgresql+pg8000://\",\n",
    "            creator=getconn,\n",
    "            # Pool settings\n",
    "            pool_size=5,               # Default number of connections to maintain\n",
    "            max_overflow=10,           # Allow up to 10 additional connections on high load\n",
    "            pool_timeout=30,           # Wait up to 30 seconds for a connection\n",
    "            pool_recycle=1800,         # Recycle connections after 30 minutes\n",
    "            pool_pre_ping=True         # Check connection viability before using\n",
    "        )\n",
    "\n",
    "        logging.info(\"Google Cloud SQL connection pool initialized\")\n",
    "    else:\n",
    "        raise ValueError('No instance connection provided')\n",
    "\n",
    "    return _engine\n",
    "\n",
    "get_db_engine()"
   ],
   "outputs": [],
   "execution_count": null
  },
  {
   "metadata": {},
   "cell_type": "code",
   "source": "with _engine.session()",
   "id": "e7700d915aabee16",
   "outputs": [],
   "execution_count": null
  }
 ],
 "metadata": {
  "kernelspec": {
   "display_name": "zando-database",
   "language": "python",
   "name": "zando-database"
  },
  "language_info": {
   "codemirror_mode": {
    "name": "ipython",
    "version": 2
   },
   "file_extension": ".py",
   "mimetype": "text/x-python",
   "name": "python",
   "nbconvert_exporter": "python",
   "pygments_lexer": "ipython2",
   "version": "2.7.6"
  }
 },
 "nbformat": 4,
 "nbformat_minor": 5
}
