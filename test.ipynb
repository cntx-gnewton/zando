{
 "cells": [
  {
   "cell_type": "code",
   "execution_count": 1,
   "metadata": {},
   "outputs": [],
   "source": [
    "# %pip install google pg8000 sqlalchemy cloud-sql-python-connector"
   ]
  },
  {
   "cell_type": "code",
   "execution_count": 2,
   "metadata": {},
   "outputs": [],
   "source": [
    "import os\n",
    "\n",
    "from google.cloud.sql.connector import Connector, IPTypes\n",
    "import pg8000\n",
    "\n",
    "import sqlalchemy\n",
    "from dotenv import load_dotenv\n",
    "load_dotenv()\n",
    "\n",
    "def connect_with_connector() -> sqlalchemy.engine.base.Engine:\n",
    "    \"\"\"\n",
    "    Initializes a connection pool for a Cloud SQL instance of Postgres.\n",
    "\n",
    "    Uses the Cloud SQL Python Connector package.\n",
    "    \"\"\"\n",
    "    # Note: Saving credentials in environment variables is convenient, but not\n",
    "    # secure - consider a more secure solution such as\n",
    "    # Cloud Secret Manager (https://cloud.google.com/secret-manager) to help\n",
    "    # keep secrets safe.\n",
    "\n",
    "    instance_connection_name = os.environ[\n",
    "        \"INSTANCE_CONNECTION_NAME\"\n",
    "    ]  # e.g. 'project:region:instance'\n",
    "    db_user = os.environ[\"DB_USER\"]  # e.g. 'my-db-user'\n",
    "    db_pass = os.environ[\"DB_PASS\"]  # e.g. 'my-db-password'\n",
    "    db_name = os.environ[\"DB_NAME\"]  # e.g. 'my-database'\n",
    "\n",
    "    ip_type = IPTypes.PRIVATE if os.environ.get(\"PRIVATE_IP\") else IPTypes.PUBLIC\n",
    "\n",
    "    # initialize Cloud SQL Python Connector object\n",
    "    connector = Connector(refresh_strategy=\"LAZY\")\n",
    "\n",
    "    def getconn() -> pg8000.dbapi.Connection:\n",
    "        conn: pg8000.dbapi.Connection = connector.connect(\n",
    "            instance_connection_name,\n",
    "            \"pg8000\",\n",
    "            user=db_user,\n",
    "            password=db_pass,\n",
    "            db=db_name,\n",
    "            ip_type=ip_type,\n",
    "        )\n",
    "        return conn\n",
    "\n",
    "    # The Cloud SQL Python Connector can be used with SQLAlchemy\n",
    "    # using the 'creator' argument to 'create_engine'\n",
    "    pool = sqlalchemy.create_engine(\n",
    "        \"postgresql+pg8000://\",\n",
    "        creator=getconn,\n",
    "        # ...\n",
    "    )\n",
    "    return pool"
   ]
  },
  {
   "cell_type": "code",
   "execution_count": 13,
   "metadata": {},
   "outputs": [
    {
     "name": "stdout",
     "output_type": "stream",
     "text": [
      "['snp', 'snp_characteristic_link', 'skincharacteristic', 'characteristic_condition_link', 'skincondition', 'condition_ingredient_link', 'ingredient']\n"
     ]
    }
   ],
   "source": [
    "import sqlalchemy\n",
    "\n",
    "engine = connect_with_connector()\n",
    "\n",
    "inspector = sqlalchemy.inspect(engine)\n",
    "table_names = inspector.get_table_names()\n",
    "print(table_names)"
   ]
  },
  {
   "cell_type": "code",
   "execution_count": 10,
   "metadata": {},
   "outputs": [],
   "source": [
    "from sqlalchemy import Table, Column, Integer, String, Text, MetaData, CheckConstraint\n",
    "from sqlalchemy import create_engine, MetaData, Table, Column, Integer, String, ForeignKey\n",
    "from sqlalchemy import insert\n",
    "\n",
    "# Database engine\n",
    "engine = connect_with_connector()\n",
    "\n",
    "# Metadata object\n",
    "metadata = MetaData()\n",
    "\n",
    "# Table Definition\n",
    "SNP = Table(\n",
    "    'snp',\n",
    "    metadata,\n",
    "    Column('snp_id', Integer, primary_key=True, autoincrement=True),\n",
    "    Column('rsid', String, nullable=False, unique=True),\n",
    "    Column('gene', String, nullable=False),\n",
    "    Column('risk_allele', String, nullable=False),\n",
    "    Column('effect', Text),\n",
    "    Column('evidence_strength', String, CheckConstraint(\n",
    "        \"evidence_strength IN ('Strong', 'Moderate', 'Weak')\")),\n",
    "    Column('category', String, nullable=False)\n",
    ")\n",
    "\n",
    "# SkinCharacteristic table\n",
    "SkinCharacteristic = Table(\n",
    "    'skincharacteristic',\n",
    "    metadata,\n",
    "    Column('characteristic_id', Integer, primary_key=True, autoincrement=True),\n",
    "    Column('name', String, nullable=False, unique=True),\n",
    "    Column('description', Text),\n",
    "    Column('measurement_method', Text)\n",
    ")\n",
    "\n",
    "# SkinCondition table\n",
    "SkinCondition = Table(\n",
    "    'skincondition',\n",
    "    metadata,\n",
    "    Column('condition_id', Integer, primary_key=True, autoincrement=True),\n",
    "    Column('name', String, nullable=False, unique=True),\n",
    "    Column('description', Text),\n",
    "    Column('severity_scale', Text)\n",
    ")\n",
    "\n",
    "# Ingredient table\n",
    "Ingredient = Table(\n",
    "    'ingredient',\n",
    "    metadata,\n",
    "    Column('ingredient_id', Integer, primary_key=True, autoincrement=True),\n",
    "    Column('name', String, nullable=False, unique=True),\n",
    "    Column('mechanism', Text),\n",
    "    Column('evidence_level', String, CheckConstraint(\"evidence_level IN ('Strong', 'Moderate', 'Weak')\")),\n",
    "    Column('contraindications', Text)\n",
    ")\n",
    "\n",
    "# SNP_Characteristic_Link table\n",
    "SNP_Characteristic_Link = Table(\n",
    "    'snp_characteristic_link',\n",
    "    metadata,\n",
    "    Column('snp_id', Integer, ForeignKey('snp.snp_id'), primary_key=True),\n",
    "    Column('characteristic_id', Integer, ForeignKey('skincharacteristic.characteristic_id'), primary_key=True),\n",
    "    Column('effect_direction', String, CheckConstraint(\"effect_direction IN ('Increases', 'Decreases', 'Modulates')\")),\n",
    "    Column('evidence_strength', String)\n",
    ")\n",
    "\n",
    "# Characteristic_Condition_Link table\n",
    "Characteristic_Condition_Link = Table(\n",
    "    'characteristic_condition_link',\n",
    "    metadata,\n",
    "    Column('characteristic_id', Integer, ForeignKey('skincharacteristic.characteristic_id'), primary_key=True),\n",
    "    Column('condition_id', Integer, ForeignKey('skincondition.condition_id'), primary_key=True),\n",
    "    Column('relationship_type', String)\n",
    ")\n",
    "\n",
    "# Condition_Ingredient_Link table\n",
    "Condition_Ingredient_Link = Table(\n",
    "    'condition_ingredient_link',\n",
    "    metadata,\n",
    "    Column('condition_id', Integer, ForeignKey('skincondition.condition_id'), primary_key=True),\n",
    "    Column('ingredient_id', Integer, ForeignKey('ingredient.ingredient_id'), primary_key=True),\n",
    "    Column('recommendation_strength', String, CheckConstraint(\"recommendation_strength IN ('First-line', 'Second-line', 'Adjuvant')\")),\n",
    "    Column('guidance_notes', Text)\n",
    ")\n",
    "\n",
    "metadata.create_all(engine)"
   ]
  },
  {
   "cell_type": "code",
   "execution_count": 14,
   "metadata": {},
   "outputs": [],
   "source": [
    "import pandas as pd\n",
    "\n",
    "def populate_table(table):\n",
    "    \"\"\"\n",
    "    Populates a table with data from a CSV file.\n",
    "    \"\"\"\n",
    "    # Load the CSV file into a DataFrame\n",
    "    df = pd.read_csv(f'ALGORYTHM\\\\tables\\\\{table.name}.csv')\n",
    "\n",
    "    # Insert the data into the table\n",
    "    with engine.connect() as conn:\n",
    "        for index, row in df.iterrows():\n",
    "            insert_stmt = insert(table).values(row.to_dict())\n",
    "            conn.execute(insert_stmt)\n",
    "            \n",
    "            \n",
    "populate_table(SNP)        "
   ]
  },
  {
   "cell_type": "code",
   "execution_count": 20,
   "metadata": {},
   "outputs": [],
   "source": [
    "from sqlalchemy import text\n",
    "\n",
    "engine = connect_with_connector()\n",
    "\n",
    "with engine.connect() as conn:\n",
    "    result = conn.execute(text(\"SELECT * FROM SNP\"))\n",
    "    for row in result:\n",
    "        print(row)"
   ]
  },
  {
   "cell_type": "code",
   "execution_count": 21,
   "metadata": {},
   "outputs": [
    {
     "data": {
      "text/plain": [
       "[]"
      ]
     },
     "execution_count": 21,
     "metadata": {},
     "output_type": "execute_result"
    }
   ],
   "source": [
    "result.all()"
   ]
  },
  {
   "cell_type": "code",
   "execution_count": null,
   "metadata": {},
   "outputs": [],
   "source": [
    "RESU``"
   ]
  },
  {
   "cell_type": "code",
   "execution_count": null,
   "metadata": {},
   "outputs": [
    {
     "ename": "ObjectNotExecutableError",
     "evalue": "Not an executable object: \"\\nCREATE TABLE IF NOT EXISTS SNP (\\n    snp_id SERIAL PRIMARY KEY,\\n    rsid VARCHAR NOT NULL UNIQUE,\\n    gene VARCHAR NOT NULL,\\n    risk_allele VARCHAR NOT NULL,\\n    effect TEXT,\\n    evidence_strength VARCHAR CHECK (evidence_strength IN ('Strong', 'Moderate', 'Weak')),\\n    category VARCHAR NOT NULL\\n);\\n\"",
     "output_type": "error",
     "traceback": [
      "\u001b[1;31m---------------------------------------------------------------------------\u001b[0m",
      "\u001b[1;31mAttributeError\u001b[0m                            Traceback (most recent call last)",
      "File \u001b[1;32mc:\\Users\\greys\\AppData\\Local\\Programs\\Python\\Python311\\Lib\\site-packages\\sqlalchemy\\engine\\base.py:1412\u001b[0m, in \u001b[0;36mConnection.execute\u001b[1;34m(self, statement, parameters, execution_options)\u001b[0m\n\u001b[0;32m   1411\u001b[0m \u001b[38;5;28;01mtry\u001b[39;00m:\n\u001b[1;32m-> 1412\u001b[0m     meth \u001b[38;5;241m=\u001b[39m \u001b[43mstatement\u001b[49m\u001b[38;5;241;43m.\u001b[39;49m\u001b[43m_execute_on_connection\u001b[49m\n\u001b[0;32m   1413\u001b[0m \u001b[38;5;28;01mexcept\u001b[39;00m \u001b[38;5;167;01mAttributeError\u001b[39;00m \u001b[38;5;28;01mas\u001b[39;00m err:\n",
      "\u001b[1;31mAttributeError\u001b[0m: 'str' object has no attribute '_execute_on_connection'",
      "\nThe above exception was the direct cause of the following exception:\n",
      "\u001b[1;31mObjectNotExecutableError\u001b[0m                  Traceback (most recent call last)",
      "Cell \u001b[1;32mIn[4], line 16\u001b[0m\n\u001b[0;32m     14\u001b[0m \u001b[38;5;66;03m# Example usage\u001b[39;00m\n\u001b[0;32m     15\u001b[0m \u001b[38;5;28;01mwith\u001b[39;00m engine\u001b[38;5;241m.\u001b[39mconnect() \u001b[38;5;28;01mas\u001b[39;00m conn:\n\u001b[1;32m---> 16\u001b[0m     result \u001b[38;5;241m=\u001b[39m \u001b[43mconn\u001b[49m\u001b[38;5;241;43m.\u001b[39;49m\u001b[43mexecute\u001b[49m\u001b[43m(\u001b[49m\u001b[43mquery\u001b[49m\u001b[43m)\u001b[49m\n\u001b[0;32m     17\u001b[0m     \u001b[38;5;66;03m# for row in result:\u001b[39;00m\n\u001b[0;32m     18\u001b[0m     \u001b[38;5;66;03m#     print(row)\u001b[39;00m\n",
      "File \u001b[1;32mc:\\Users\\greys\\AppData\\Local\\Programs\\Python\\Python311\\Lib\\site-packages\\sqlalchemy\\engine\\base.py:1414\u001b[0m, in \u001b[0;36mConnection.execute\u001b[1;34m(self, statement, parameters, execution_options)\u001b[0m\n\u001b[0;32m   1412\u001b[0m     meth \u001b[38;5;241m=\u001b[39m statement\u001b[38;5;241m.\u001b[39m_execute_on_connection\n\u001b[0;32m   1413\u001b[0m \u001b[38;5;28;01mexcept\u001b[39;00m \u001b[38;5;167;01mAttributeError\u001b[39;00m \u001b[38;5;28;01mas\u001b[39;00m err:\n\u001b[1;32m-> 1414\u001b[0m     \u001b[38;5;28;01mraise\u001b[39;00m exc\u001b[38;5;241m.\u001b[39mObjectNotExecutableError(statement) \u001b[38;5;28;01mfrom\u001b[39;00m \u001b[38;5;21;01merr\u001b[39;00m\n\u001b[0;32m   1415\u001b[0m \u001b[38;5;28;01melse\u001b[39;00m:\n\u001b[0;32m   1416\u001b[0m     \u001b[38;5;28;01mreturn\u001b[39;00m meth(\n\u001b[0;32m   1417\u001b[0m         \u001b[38;5;28mself\u001b[39m,\n\u001b[0;32m   1418\u001b[0m         distilled_parameters,\n\u001b[0;32m   1419\u001b[0m         execution_options \u001b[38;5;129;01mor\u001b[39;00m NO_OPTIONS,\n\u001b[0;32m   1420\u001b[0m     )\n",
      "\u001b[1;31mObjectNotExecutableError\u001b[0m: Not an executable object: \"\\nCREATE TABLE IF NOT EXISTS SNP (\\n    snp_id SERIAL PRIMARY KEY,\\n    rsid VARCHAR NOT NULL UNIQUE,\\n    gene VARCHAR NOT NULL,\\n    risk_allele VARCHAR NOT NULL,\\n    effect TEXT,\\n    evidence_strength VARCHAR CHECK (evidence_strength IN ('Strong', 'Moderate', 'Weak')),\\n    category VARCHAR NOT NULL\\n);\\n\""
     ]
    }
   ],
   "source": [
    "query =\n",
    "\n",
    "engine = connect_with_connector()\n",
    "# Example usage\n",
    "with engine.connect() as conn:\n",
    "    result = conn.execute(\"SELECT 1\")\n",
    "    # for row in result:\n",
    "    #     print(row)"
   ]
  },
  {
   "cell_type": "code",
   "execution_count": null,
   "metadata": {},
   "outputs": [],
   "source": []
  }
 ],
 "metadata": {
  "kernelspec": {
   "display_name": "Python 3",
   "language": "python",
   "name": "python3"
  },
  "language_info": {
   "codemirror_mode": {
    "name": "ipython",
    "version": 3
   },
   "file_extension": ".py",
   "mimetype": "text/x-python",
   "name": "python",
   "nbconvert_exporter": "python",
   "pygments_lexer": "ipython3",
   "version": "3.11.5"
  }
 },
 "nbformat": 4,
 "nbformat_minor": 2
}
