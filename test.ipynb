{
 "cells": [
  {
   "cell_type": "code",
   "execution_count": null,
   "metadata": {},
   "outputs": [],
   "source": [
    "def read_dna_file(file_path):\n",
    "    \"\"\"\n",
    "    Reads an AncestryDNA raw data .txt file and extracts SNP records.\n",
    "    Skips header lines (#) and the column header.\n",
    "    Returns a list of dicts with keys: rsid, chromosome, position, allele1, allele2.\n",
    "    \"\"\"\n",
    "    snps = []\n",
    "    with open(file_path, 'r') as file:\n",
    "        for line in file:\n",
    "            line = line.strip()\n",
    "            # Skip comments and empty lines\n",
    "            if line.startswith(\"#\") or not line:\n",
    "                continue\n",
    "            # Skip the header row if present\n",
    "            if line.startswith(\"rsid\"):\n",
    "                continue\n",
    "\n",
    "            fields = line.split(\"\\t\")\n",
    "            if len(fields) >= 5:\n",
    "                rsid, chromosome, position, allele1, allele2 = fields[:5]\n",
    "                snps.append({\n",
    "                    'rsid': rsid,\n",
    "                    'chromosome': chromosome,\n",
    "                    'position': position,\n",
    "                    'allele1': allele1,\n",
    "                    'allele2': allele2\n",
    "                })\n",
    "    return snps\n",
    "\n",
    "\n",
    "read_dna_file(r'C:\\Users\\greys\\OneDrive\\zando\\AncestoryData.txt')"
   ]
  },
  {
   "cell_type": "code",
   "execution_count": null,
   "metadata": {},
   "outputs": [],
   "source": [
    "import pandas as pd\n",
    "\n",
    "genome_file = r'C:\\Users\\greys\\OneDrive\\zando\\AncestoryData.txt'\n",
    "genome_data = pd.read_csv(\n",
    "    genome_file,\n",
    "    comment='#',\n",
    "    sep='\\t',\n",
    "    header=None,\n",
    "    names=['rsid', 'chromosome', 'al', 'genotype'],\n",
    "    dtype={'rsid': str, 'chromosome': str,\n",
    "            'position': int, 'genotype': str},\n",
    "    low_memory=False\n",
    ")"
   ]
  },
  {
   "cell_type": "code",
   "execution_count": 2,
   "metadata": {},
   "outputs": [
    {
     "data": {
      "text/plain": [
       "['chromosome', 'allele1', 'position', 'allele2', 'genotype', 'rsid']"
      ]
     },
     "execution_count": 2,
     "metadata": {},
     "output_type": "execute_result"
    }
   ],
   "source": [
    "import pandas as pd\n",
    "\n",
    "import os\n",
    "def verify_and_read_txt(filepath):\n",
    "    # Check if the file is a .txt file\n",
    "    if not filepath.endswith('.txt'):\n",
    "        raise ValueError(\"The file is not a .txt file\")\n",
    "\n",
    "    # Check if the file exists\n",
    "    if not os.path.isfile(filepath):\n",
    "        raise FileNotFoundError(\"The file does not exist\")\n",
    "\n",
    "    # List of valid columns to search for\n",
    "    valid_columns = ['rsid', 'chromosome',\n",
    "                     'position', 'allele1', 'allele2', 'genotype']\n",
    "    found_columns = set()\n",
    "\n",
    "    # Read the first 100 lines of the file\n",
    "    with open(filepath, 'r') as file:\n",
    "        for i, line in enumerate(file):\n",
    "            if i >= 100:\n",
    "                break\n",
    "            # Check if any of the valid columns are in the line\n",
    "            for column in valid_columns:\n",
    "                if column in line:\n",
    "                    found_columns.add(column)\n",
    "\n",
    "    return list(found_columns)\n",
    "\n",
    "def get_genome_data(genome_file):\n",
    "    genome_data = pd.read_csv(\n",
    "        genome_file,\n",
    "        comment='#',\n",
    "        sep='\\t',\n",
    "        header=None,\n",
    "        # names=['rsid', 'chromosome', 'position', 'genotype'],\n",
    "        names=['rsid','chromosome','position','allele1','allele2'],\n",
    "\n",
    "        dtype={'rsid': str, 'chromosome': str,\n",
    "               'position': str, 'allele1': str, 'allele2': str},\n",
    "        low_memory=False\n",
    "    )\n",
    "    return genome_data.to_dict(orient='records')\n",
    "\n",
    "df = verify_and_read_txt('__AncestoryData.txt')\n",
    "df"
   ]
  },
  {
   "cell_type": "code",
   "execution_count": null,
   "metadata": {},
   "outputs": [],
   "source": []
  }
 ],
 "metadata": {
  "kernelspec": {
   "display_name": "Python 3",
   "language": "python",
   "name": "python3"
  },
  "language_info": {
   "codemirror_mode": {
    "name": "ipython",
    "version": 3
   },
   "file_extension": ".py",
   "mimetype": "text/x-python",
   "name": "python",
   "nbconvert_exporter": "python",
   "pygments_lexer": "ipython3",
   "version": "3.11.5"
  }
 },
 "nbformat": 4,
 "nbformat_minor": 2
}
