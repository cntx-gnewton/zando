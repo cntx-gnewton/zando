{
 "cells": [
  {
   "metadata": {
    "ExecuteTime": {
     "end_time": "2025-04-13T18:06:29.759117Z",
     "start_time": "2025-04-13T18:06:29.752918Z"
    }
   },
   "cell_type": "code",
   "source": [
    "table_query_dict = {\n",
    "    \"characteristic_condition_link\": \"SELECT * FROM characteristic_condition_link;\",\n",
    "    \"skincharacteristic\": \"SELECT * FROM skincharacteristic;\",\n",
    "    \"skincondition\": \"SELECT * FROM skincondition;\",\n",
    "\n",
    "    \"snp\": \"SELECT * FROM snp;\",\n",
    "    \"snp_characteristic_link\": \"SELECT * FROM snp_characteristic_link;\",\n",
    "    \"snp_ingredient_link\": \"SELECT * FROM snp_ingredient_link;\",\n",
    "    \"snp_ingredientcaution_link\": \"SELECT * FROM snp_ingredientcaution_link;\",\n",
    "\n",
    "    \"condition_ingredient_link\": \"SELECT * FROM condition_ingredient_link;\",\n",
    "    \"ingredient\": \"SELECT * FROM ingredient;\",\n",
    "    \"ingredientcaution\": \"SELECT * FROM ingredientcaution;\",\n",
    "\n",
    "    \"product\": \"SELECT * FROM product;\",\n",
    "    \"product_aspect\": \"SELECT * FROM product_aspect;\",\n",
    "    \"product_aspect_link\": \"SELECT * FROM product_aspect_link;\",\n",
    "    \"product_benefit\": \"SELECT * FROM product_benefit;\",\n",
    "    \"product_benefit_link\": \"SELECT * FROM product_benefit_link;\",\n",
    "    \"product_concern\": \"SELECT * FROM product_concern;\",\n",
    "    \"product_concern_link\": \"SELECT * FROM product_concern_link;\",\n",
    "    \"product_ingredient_link\": \"SELECT * FROM product_ingredient_link;\",\n",
    "}"
   ],
   "id": "ed6926f26ae71554",
   "outputs": [],
   "execution_count": 1
  },
  {
   "metadata": {
    "ExecuteTime": {
     "end_time": "2025-04-13T18:06:30.461543Z",
     "start_time": "2025-04-13T18:06:30.074093Z"
    }
   },
   "cell_type": "code",
   "source": [
    "from sqlalchemy import text\n",
    "from sqlalchemy.engine import Engine\n",
    "from db_migrations.utils.db_session import create_db_engine\n",
    "from typing import List, Any\n",
    "import yaml\n",
    "\n",
    "\n",
    "def run_sql_query(db_config: dict, sql: str) -> List[Any]:\n",
    "    \"\"\"\n",
    "    Executes a raw SQL query using the provided db_config and returns all results.\n",
    "\n",
    "    Args:\n",
    "        db_config (dict): Dictionary containing DB connection config.\n",
    "        sql (str): The raw SQL query to execute.\n",
    "\n",
    "    Returns:\n",
    "        List[Any]: List of rows returned by the query.\n",
    "    \"\"\"\n",
    "    engine: Engine = create_db_engine(db_config)\n",
    "    query = text(sql)\n",
    "\n",
    "    with engine.connect() as connection:\n",
    "        result = connection.execute(query)\n",
    "        return result.fetchall()\n",
    "\n"
   ],
   "id": "11522fc0b9c138e4",
   "outputs": [],
   "execution_count": 2
  },
  {
   "metadata": {
    "ExecuteTime": {
     "end_time": "2025-04-13T18:07:19.039639Z",
     "start_time": "2025-04-13T18:06:30.548197Z"
    }
   },
   "cell_type": "code",
   "source": [
    "import pandas as pd\n",
    "\n",
    "with open('db_config.yaml','r') as f:\n",
    "    db_config = yaml.load(f, Loader=yaml.FullLoader)\n",
    "data_path = '/zando/database/data/production'\n",
    "for table_name, table_query in table_query_dict.items():\n",
    "    row_list = run_sql_query(db_config['production'],table_query)\n",
    "    table_df = pd.DataFrame(row_list)\n",
    "    table_df.to_csv(f'{data_path}/{table_name}.csv', index=False)\n",
    "\n"
   ],
   "id": "1e1976125336a6b6",
   "outputs": [
    {
     "name": "stderr",
     "output_type": "stream",
     "text": [
      "Unclosed client session\n",
      "client_session: <aiohttp.client.ClientSession object at 0x124c909d0>\n",
      "Unclosed connector\n",
      "connections: ['deque([(<aiohttp.client_proto.ResponseHandler object at 0x124b53b60>, 333906.997793291), (<aiohttp.client_proto.ResponseHandler object at 0x124b53a80>, 333907.190167083)])']\n",
      "connector: <aiohttp.connector.TCPConnector object at 0x124c90990>\n",
      "Unclosed client session\n",
      "client_session: <aiohttp.client.ClientSession object at 0x124ca4dd0>\n",
      "Unclosed connector\n",
      "connections: ['deque([(<aiohttp.client_proto.ResponseHandler object at 0x124cb8360>, 333912.1892295), (<aiohttp.client_proto.ResponseHandler object at 0x124cb84b0>, 333912.232387458)])']\n",
      "connector: <aiohttp.connector.TCPConnector object at 0x124ca4810>\n",
      "Unclosed client session\n",
      "client_session: <aiohttp.client.ClientSession object at 0x124cbe690>\n",
      "Unclosed connector\n",
      "connections: ['deque([(<aiohttp.client_proto.ResponseHandler object at 0x124cb8670>, 333917.188307125), (<aiohttp.client_proto.ResponseHandler object at 0x124cb87c0>, 333917.229211)])']\n",
      "connector: <aiohttp.connector.TCPConnector object at 0x124cbfd50>\n",
      "Unclosed client session\n",
      "client_session: <aiohttp.client.ClientSession object at 0x124cc3f10>\n",
      "Unclosed connector\n",
      "connections: ['deque([(<aiohttp.client_proto.ResponseHandler object at 0x124cb8830>, 333919.50478675), (<aiohttp.client_proto.ResponseHandler object at 0x124cb83d0>, 333919.675650125)])']\n",
      "connector: <aiohttp.connector.TCPConnector object at 0x124cc3e50>\n",
      "Unclosed client session\n",
      "client_session: <aiohttp.client.ClientSession object at 0x12500e450>\n",
      "Unclosed connector\n",
      "connections: ['deque([(<aiohttp.client_proto.ResponseHandler object at 0x124cb9a90>, 333921.996644666), (<aiohttp.client_proto.ResponseHandler object at 0x124cb9b70>, 333922.105359291)])']\n",
      "connector: <aiohttp.connector.TCPConnector object at 0x12500e390>\n",
      "Unclosed client session\n",
      "client_session: <aiohttp.client.ClientSession object at 0x12500cc90>\n",
      "Unclosed connector\n",
      "connections: ['deque([(<aiohttp.client_proto.ResponseHandler object at 0x124cba350>, 333927.22537925), (<aiohttp.client_proto.ResponseHandler object at 0x124cba190>, 333927.225873375)])']\n",
      "connector: <aiohttp.connector.TCPConnector object at 0x12500ce10>\n",
      "Unclosed client session\n",
      "client_session: <aiohttp.client.ClientSession object at 0x124c5ff50>\n",
      "Unclosed connector\n",
      "connections: ['deque([(<aiohttp.client_proto.ResponseHandler object at 0x124cb9710>, 333924.500835625), (<aiohttp.client_proto.ResponseHandler object at 0x124cb9b70>, 333924.585511041)])']\n",
      "connector: <aiohttp.connector.TCPConnector object at 0x124c5fdd0>\n",
      "Unclosed client session\n",
      "client_session: <aiohttp.client.ClientSession object at 0x124ca7ad0>\n",
      "Unclosed connector\n",
      "connections: ['deque([(<aiohttp.client_proto.ResponseHandler object at 0x124cb9e10>, 333932.002271083), (<aiohttp.client_proto.ResponseHandler object at 0x124cba4a0>, 333932.11838825)])']\n",
      "connector: <aiohttp.connector.TCPConnector object at 0x124c92750>\n",
      "Unclosed client session\n",
      "client_session: <aiohttp.client.ClientSession object at 0x125016490>\n",
      "Unclosed connector\n",
      "connections: ['deque([(<aiohttp.client_proto.ResponseHandler object at 0x124cb8830>, 333936.979407541), (<aiohttp.client_proto.ResponseHandler object at 0x124cba350>, 333937.172919875)])']\n",
      "connector: <aiohttp.connector.TCPConnector object at 0x1250164d0>\n",
      "Unclosed client session\n",
      "client_session: <aiohttp.client.ClientSession object at 0x12503cbd0>\n",
      "Unclosed connector\n",
      "connections: ['deque([(<aiohttp.client_proto.ResponseHandler object at 0x124cb9470>, 333941.872111583), (<aiohttp.client_proto.ResponseHandler object at 0x124cb87c0>, 333941.913902208)])']\n",
      "connector: <aiohttp.connector.TCPConnector object at 0x12503c710>\n"
     ]
    }
   ],
   "execution_count": 3
  },
  {
   "metadata": {
    "ExecuteTime": {
     "end_time": "2025-04-13T16:23:25.252984Z",
     "start_time": "2025-04-13T16:23:25.248272Z"
    }
   },
   "cell_type": "code",
   "source": [
    "'''\n",
    "\n",
    "-- Characteristics\n",
    "Select * from characteristic_condition_link;\n",
    "Select * from skincharacteristic;\n",
    "SELECT * from skincondition;\n",
    "\n",
    "-- Snps\n",
    "select * from snp;\n",
    "select * from snp_characteristic_link;\n",
    "select * from snp_ingredient_link;\n",
    "select * from snp_ingredientcaution_link;\n",
    "\n",
    "-- Ingredients\n",
    "Select * from condition_ingredient_link;\n",
    "Select * from ingredient;\n",
    "Select * from ingredientcaution;\n",
    "\n",
    "-- Products\n",
    "Select * from product;\n",
    "Select * from product_aspect;\n",
    "Select * from product_aspect_link;\n",
    "Select * from product_benefit;\n",
    "Select * from product_benefit_link;\n",
    "Select * from product_concern;\n",
    "Select * from product_concern_link;\n",
    "Select * from product_ingredient_link;\n",
    "'''"
   ],
   "id": "69d5c6aa2b0134c6",
   "outputs": [
    {
     "data": {
      "text/plain": [
       "'\\n\\n-- Characteristics\\nSelect * from characteristic_condition_link;\\nSelect * from skincharacteristic;\\nSELECT * from skincondition;\\n\\n-- Snps\\nselect * from snp;\\nselect * from snp_characteristic_link;\\nselect * from snp_ingredient_link;\\nselect * from snp_ingredientcaution_link;\\n\\n-- Ingredients\\nSelect * from condition_ingredient_link;\\nSelect * from ingredient;\\nSelect * from ingredientcaution;\\n\\n-- Products\\nSelect * from product;\\nSelect * from product_aspect;\\nSelect * from product_aspect_link;\\nSelect * from product_benefit;\\nSelect * from product_benefit_link;\\nSelect * from product_concern;\\nSelect * from product_concern_link;\\nSelect * from product_ingredient_link;\\n'"
      ]
     },
     "execution_count": 24,
     "metadata": {},
     "output_type": "execute_result"
    }
   ],
   "execution_count": 24
  },
  {
   "metadata": {
    "ExecuteTime": {
     "end_time": "2025-04-13T16:23:25.281752Z",
     "start_time": "2025-04-13T16:23:25.274154Z"
    }
   },
   "cell_type": "code",
   "source": [
    "# Create settings instance\n",
    "from project_settings import Settings\n",
    "settings = Settings()\n",
    "print(f\"Loaded settings: {settings}\")\n"
   ],
   "id": "72759bb3caa3b8f4",
   "outputs": [
    {
     "name": "stdout",
     "output_type": "stream",
     "text": [
      "Loaded settings: API_V1_STR='/api/v1' PROJECT_NAME='Zando Genomic Analysis' BACKEND_CORS_ORIGINS=['*'] DB_USER='postgres' DB_PASS='postgres' DB_NAME='postgres' INSTANCE_CONNECTION_NAME='zerosandones-369:us-central1:zando-dev'\n"
     ]
    }
   ],
   "execution_count": 25
  },
  {
   "metadata": {
    "ExecuteTime": {
     "end_time": "2025-04-13T16:23:25.731038Z",
     "start_time": "2025-04-13T16:23:25.301657Z"
    }
   },
   "cell_type": "code",
   "source": [
    "# models.py\n",
    "from sqlalchemy import Column, Integer, String\n",
    "from sqlalchemy.ext.declarative import declarative_base\n",
    "\n",
    "Base = declarative_base()\n",
    "\n",
    "class TestItem(Base):\n",
    "    __tablename__ = \"test_items\"\n",
    "\n",
    "    id = Column(Integer, primary_key=True, index=True)\n",
    "    name = Column(String, nullable=False)\n",
    "\n",
    "from google_session import SyncSessionLocal  # assuming this creates your engine/session\n",
    "\n",
    "# Access the same engine used in SyncSessionLocal\n",
    "# If SyncSessionLocal is a sessionmaker(engine), you can get the engine from it like:\n",
    "engine = SyncSessionLocal.kw[\"bind\"]  # Only works if it's initialized with `bind=engine`\n",
    "\n",
    "# Or directly if you can import engine from wherever it's defined\n",
    "# from google_session import engine\n",
    "\n",
    "# Create tables\n",
    "Base.metadata.create_all(bind=engine)\n",
    "\n",
    "print(\"Table created successfully.\")"
   ],
   "id": "86d58c714f2c1ef0",
   "outputs": [
    {
     "name": "stderr",
     "output_type": "stream",
     "text": [
      "/var/folders/zx/f36xk5q140n6m_949lbqqcx40000gn/T/ipykernel_76160/1949205198.py:5: MovedIn20Warning: The ``declarative_base()`` function is now available as sqlalchemy.orm.declarative_base(). (deprecated since: 2.0) (Background on SQLAlchemy 2.0 at: https://sqlalche.me/e/b8d9)\n",
      "  Base = declarative_base()\n",
      "Unclosed client session\n",
      "client_session: <aiohttp.client.ClientSession object at 0x10fa75810>\n",
      "Unclosed client session\n",
      "client_session: <aiohttp.client.ClientSession object at 0x10f919710>\n",
      "Unclosed connector\n",
      "connections: ['deque([(<aiohttp.client_proto.ResponseHandler object at 0x10fa90980>, 327689.073947416)])']\n",
      "connector: <aiohttp.connector.TCPConnector object at 0x10f919390>\n",
      "Unclosed client session\n",
      "client_session: <aiohttp.client.ClientSession object at 0x10fabe410>\n",
      "Unclosed client session\n",
      "client_session: <aiohttp.client.ClientSession object at 0x10fac8450>\n",
      "Unclosed connector\n",
      "connections: ['deque([(<aiohttp.client_proto.ResponseHandler object at 0x10b857540>, 327698.494525708), (<aiohttp.client_proto.ResponseHandler object at 0x10b857e00>, 327698.495426166)])']\n",
      "connector: <aiohttp.connector.TCPConnector object at 0x10fac84d0>\n",
      "Unclosed client session\n",
      "client_session: <aiohttp.client.ClientSession object at 0x10fa95f50>\n",
      "Unclosed connector\n",
      "connections: ['deque([(<aiohttp.client_proto.ResponseHandler object at 0x10fa90d00>, 327703.211882708), (<aiohttp.client_proto.ResponseHandler object at 0x10fa916a0>, 327703.266524208)])']\n",
      "connector: <aiohttp.connector.TCPConnector object at 0x10fa95f90>\n",
      "Unclosed client session\n",
      "client_session: <aiohttp.client.ClientSession object at 0x10fac4090>\n",
      "Unclosed connector\n",
      "connections: ['deque([(<aiohttp.client_proto.ResponseHandler object at 0x10fa90590>, 327707.936602208), (<aiohttp.client_proto.ResponseHandler object at 0x10fa90ad0>, 327707.960943875)])']\n",
      "connector: <aiohttp.connector.TCPConnector object at 0x10fac40d0>\n",
      "Unclosed client session\n",
      "client_session: <aiohttp.client.ClientSession object at 0x10fadda90>\n",
      "Unclosed connector\n",
      "connections: ['deque([(<aiohttp.client_proto.ResponseHandler object at 0x10fa90910>, 327712.525758708), (<aiohttp.client_proto.ResponseHandler object at 0x10fa92660>, 327712.577798041)])']\n",
      "connector: <aiohttp.connector.TCPConnector object at 0x10faddad0>\n",
      "Unclosed client session\n",
      "client_session: <aiohttp.client.ClientSession object at 0x10fa72810>\n"
     ]
    },
    {
     "ename": "RefreshError",
     "evalue": "Reauthentication is needed. Please run `gcloud auth application-default login` to reauthenticate.",
     "output_type": "error",
     "traceback": [
      "\u001B[0;31m---------------------------------------------------------------------------\u001B[0m",
      "\u001B[0;31mRefreshError\u001B[0m                              Traceback (most recent call last)",
      "Cell \u001B[0;32mIn[26], line 23\u001B[0m\n\u001B[1;32m     17\u001B[0m engine \u001B[38;5;241m=\u001B[39m SyncSessionLocal\u001B[38;5;241m.\u001B[39mkw[\u001B[38;5;124m\"\u001B[39m\u001B[38;5;124mbind\u001B[39m\u001B[38;5;124m\"\u001B[39m]  \u001B[38;5;66;03m# Only works if it's initialized with `bind=engine`\u001B[39;00m\n\u001B[1;32m     19\u001B[0m \u001B[38;5;66;03m# Or directly if you can import engine from wherever it's defined\u001B[39;00m\n\u001B[1;32m     20\u001B[0m \u001B[38;5;66;03m# from google_session import engine\u001B[39;00m\n\u001B[1;32m     21\u001B[0m \n\u001B[1;32m     22\u001B[0m \u001B[38;5;66;03m# Create tables\u001B[39;00m\n\u001B[0;32m---> 23\u001B[0m \u001B[43mBase\u001B[49m\u001B[38;5;241;43m.\u001B[39;49m\u001B[43mmetadata\u001B[49m\u001B[38;5;241;43m.\u001B[39;49m\u001B[43mcreate_all\u001B[49m\u001B[43m(\u001B[49m\u001B[43mbind\u001B[49m\u001B[38;5;241;43m=\u001B[39;49m\u001B[43mengine\u001B[49m\u001B[43m)\u001B[49m\n\u001B[1;32m     25\u001B[0m \u001B[38;5;28mprint\u001B[39m(\u001B[38;5;124m\"\u001B[39m\u001B[38;5;124mTable created successfully.\u001B[39m\u001B[38;5;124m\"\u001B[39m)\n",
      "File \u001B[0;32m~/Library/Caches/pypoetry/virtualenvs/database-aq9O3ZzL-py3.11/lib/python3.11/site-packages/sqlalchemy/sql/schema.py:5925\u001B[0m, in \u001B[0;36mMetaData.create_all\u001B[0;34m(self, bind, tables, checkfirst)\u001B[0m\n\u001B[1;32m   5901\u001B[0m \u001B[38;5;28;01mdef\u001B[39;00m\u001B[38;5;250m \u001B[39m\u001B[38;5;21mcreate_all\u001B[39m(\n\u001B[1;32m   5902\u001B[0m     \u001B[38;5;28mself\u001B[39m,\n\u001B[1;32m   5903\u001B[0m     bind: _CreateDropBind,\n\u001B[1;32m   5904\u001B[0m     tables: Optional[_typing_Sequence[Table]] \u001B[38;5;241m=\u001B[39m \u001B[38;5;28;01mNone\u001B[39;00m,\n\u001B[1;32m   5905\u001B[0m     checkfirst: \u001B[38;5;28mbool\u001B[39m \u001B[38;5;241m=\u001B[39m \u001B[38;5;28;01mTrue\u001B[39;00m,\n\u001B[1;32m   5906\u001B[0m ) \u001B[38;5;241m-\u001B[39m\u001B[38;5;241m>\u001B[39m \u001B[38;5;28;01mNone\u001B[39;00m:\n\u001B[1;32m   5907\u001B[0m \u001B[38;5;250m    \u001B[39m\u001B[38;5;124;03m\"\"\"Create all tables stored in this metadata.\u001B[39;00m\n\u001B[1;32m   5908\u001B[0m \n\u001B[1;32m   5909\u001B[0m \u001B[38;5;124;03m    Conditional by default, will not attempt to recreate tables already\u001B[39;00m\n\u001B[0;32m   (...)\u001B[0m\n\u001B[1;32m   5923\u001B[0m \n\u001B[1;32m   5924\u001B[0m \u001B[38;5;124;03m    \"\"\"\u001B[39;00m\n\u001B[0;32m-> 5925\u001B[0m     \u001B[43mbind\u001B[49m\u001B[38;5;241;43m.\u001B[39;49m\u001B[43m_run_ddl_visitor\u001B[49m\u001B[43m(\u001B[49m\n\u001B[1;32m   5926\u001B[0m \u001B[43m        \u001B[49m\u001B[43mddl\u001B[49m\u001B[38;5;241;43m.\u001B[39;49m\u001B[43mSchemaGenerator\u001B[49m\u001B[43m,\u001B[49m\u001B[43m \u001B[49m\u001B[38;5;28;43mself\u001B[39;49m\u001B[43m,\u001B[49m\u001B[43m \u001B[49m\u001B[43mcheckfirst\u001B[49m\u001B[38;5;241;43m=\u001B[39;49m\u001B[43mcheckfirst\u001B[49m\u001B[43m,\u001B[49m\u001B[43m \u001B[49m\u001B[43mtables\u001B[49m\u001B[38;5;241;43m=\u001B[39;49m\u001B[43mtables\u001B[49m\n\u001B[1;32m   5927\u001B[0m \u001B[43m    \u001B[49m\u001B[43m)\u001B[49m\n",
      "File \u001B[0;32m~/Library/Caches/pypoetry/virtualenvs/database-aq9O3ZzL-py3.11/lib/python3.11/site-packages/sqlalchemy/engine/base.py:3248\u001B[0m, in \u001B[0;36mEngine._run_ddl_visitor\u001B[0;34m(self, visitorcallable, element, **kwargs)\u001B[0m\n\u001B[1;32m   3242\u001B[0m \u001B[38;5;28;01mdef\u001B[39;00m\u001B[38;5;250m \u001B[39m\u001B[38;5;21m_run_ddl_visitor\u001B[39m(\n\u001B[1;32m   3243\u001B[0m     \u001B[38;5;28mself\u001B[39m,\n\u001B[1;32m   3244\u001B[0m     visitorcallable: Type[Union[SchemaGenerator, SchemaDropper]],\n\u001B[1;32m   3245\u001B[0m     element: SchemaItem,\n\u001B[1;32m   3246\u001B[0m     \u001B[38;5;241m*\u001B[39m\u001B[38;5;241m*\u001B[39mkwargs: Any,\n\u001B[1;32m   3247\u001B[0m ) \u001B[38;5;241m-\u001B[39m\u001B[38;5;241m>\u001B[39m \u001B[38;5;28;01mNone\u001B[39;00m:\n\u001B[0;32m-> 3248\u001B[0m \u001B[43m    \u001B[49m\u001B[38;5;28;43;01mwith\u001B[39;49;00m\u001B[43m \u001B[49m\u001B[38;5;28;43mself\u001B[39;49m\u001B[38;5;241;43m.\u001B[39;49m\u001B[43mbegin\u001B[49m\u001B[43m(\u001B[49m\u001B[43m)\u001B[49m\u001B[43m \u001B[49m\u001B[38;5;28;43;01mas\u001B[39;49;00m\u001B[43m \u001B[49m\u001B[43mconn\u001B[49m\u001B[43m:\u001B[49m\n\u001B[1;32m   3249\u001B[0m \u001B[43m        \u001B[49m\u001B[43mconn\u001B[49m\u001B[38;5;241;43m.\u001B[39;49m\u001B[43m_run_ddl_visitor\u001B[49m\u001B[43m(\u001B[49m\u001B[43mvisitorcallable\u001B[49m\u001B[43m,\u001B[49m\u001B[43m \u001B[49m\u001B[43melement\u001B[49m\u001B[43m,\u001B[49m\u001B[43m \u001B[49m\u001B[38;5;241;43m*\u001B[39;49m\u001B[38;5;241;43m*\u001B[39;49m\u001B[43mkwargs\u001B[49m\u001B[43m)\u001B[49m\n",
      "File \u001B[0;32m/opt/homebrew/Cellar/python@3.11/3.11.5/Frameworks/Python.framework/Versions/3.11/lib/python3.11/contextlib.py:137\u001B[0m, in \u001B[0;36m_GeneratorContextManager.__enter__\u001B[0;34m(self)\u001B[0m\n\u001B[1;32m    135\u001B[0m \u001B[38;5;28;01mdel\u001B[39;00m \u001B[38;5;28mself\u001B[39m\u001B[38;5;241m.\u001B[39margs, \u001B[38;5;28mself\u001B[39m\u001B[38;5;241m.\u001B[39mkwds, \u001B[38;5;28mself\u001B[39m\u001B[38;5;241m.\u001B[39mfunc\n\u001B[1;32m    136\u001B[0m \u001B[38;5;28;01mtry\u001B[39;00m:\n\u001B[0;32m--> 137\u001B[0m     \u001B[38;5;28;01mreturn\u001B[39;00m \u001B[38;5;28mnext\u001B[39m(\u001B[38;5;28mself\u001B[39m\u001B[38;5;241m.\u001B[39mgen)\n\u001B[1;32m    138\u001B[0m \u001B[38;5;28;01mexcept\u001B[39;00m \u001B[38;5;167;01mStopIteration\u001B[39;00m:\n\u001B[1;32m    139\u001B[0m     \u001B[38;5;28;01mraise\u001B[39;00m \u001B[38;5;167;01mRuntimeError\u001B[39;00m(\u001B[38;5;124m\"\u001B[39m\u001B[38;5;124mgenerator didn\u001B[39m\u001B[38;5;124m'\u001B[39m\u001B[38;5;124mt yield\u001B[39m\u001B[38;5;124m\"\u001B[39m) \u001B[38;5;28;01mfrom\u001B[39;00m\u001B[38;5;250m \u001B[39m\u001B[38;5;28;01mNone\u001B[39;00m\n",
      "File \u001B[0;32m~/Library/Caches/pypoetry/virtualenvs/database-aq9O3ZzL-py3.11/lib/python3.11/site-packages/sqlalchemy/engine/base.py:3238\u001B[0m, in \u001B[0;36mEngine.begin\u001B[0;34m(self)\u001B[0m\n\u001B[1;32m   3213\u001B[0m \u001B[38;5;129m@contextlib\u001B[39m\u001B[38;5;241m.\u001B[39mcontextmanager\n\u001B[1;32m   3214\u001B[0m \u001B[38;5;28;01mdef\u001B[39;00m\u001B[38;5;250m \u001B[39m\u001B[38;5;21mbegin\u001B[39m(\u001B[38;5;28mself\u001B[39m) \u001B[38;5;241m-\u001B[39m\u001B[38;5;241m>\u001B[39m Iterator[Connection]:\n\u001B[1;32m   3215\u001B[0m \u001B[38;5;250m    \u001B[39m\u001B[38;5;124;03m\"\"\"Return a context manager delivering a :class:`_engine.Connection`\u001B[39;00m\n\u001B[1;32m   3216\u001B[0m \u001B[38;5;124;03m    with a :class:`.Transaction` established.\u001B[39;00m\n\u001B[1;32m   3217\u001B[0m \n\u001B[0;32m   (...)\u001B[0m\n\u001B[1;32m   3236\u001B[0m \n\u001B[1;32m   3237\u001B[0m \u001B[38;5;124;03m    \"\"\"\u001B[39;00m  \u001B[38;5;66;03m# noqa: E501\u001B[39;00m\n\u001B[0;32m-> 3238\u001B[0m     \u001B[38;5;28;01mwith\u001B[39;00m \u001B[38;5;28;43mself\u001B[39;49m\u001B[38;5;241;43m.\u001B[39;49m\u001B[43mconnect\u001B[49m\u001B[43m(\u001B[49m\u001B[43m)\u001B[49m \u001B[38;5;28;01mas\u001B[39;00m conn:\n\u001B[1;32m   3239\u001B[0m         \u001B[38;5;28;01mwith\u001B[39;00m conn\u001B[38;5;241m.\u001B[39mbegin():\n\u001B[1;32m   3240\u001B[0m             \u001B[38;5;28;01myield\u001B[39;00m conn\n",
      "File \u001B[0;32m~/Library/Caches/pypoetry/virtualenvs/database-aq9O3ZzL-py3.11/lib/python3.11/site-packages/sqlalchemy/engine/base.py:3274\u001B[0m, in \u001B[0;36mEngine.connect\u001B[0;34m(self)\u001B[0m\n\u001B[1;32m   3251\u001B[0m \u001B[38;5;28;01mdef\u001B[39;00m\u001B[38;5;250m \u001B[39m\u001B[38;5;21mconnect\u001B[39m(\u001B[38;5;28mself\u001B[39m) \u001B[38;5;241m-\u001B[39m\u001B[38;5;241m>\u001B[39m Connection:\n\u001B[1;32m   3252\u001B[0m \u001B[38;5;250m    \u001B[39m\u001B[38;5;124;03m\"\"\"Return a new :class:`_engine.Connection` object.\u001B[39;00m\n\u001B[1;32m   3253\u001B[0m \n\u001B[1;32m   3254\u001B[0m \u001B[38;5;124;03m    The :class:`_engine.Connection` acts as a Python context manager, so\u001B[39;00m\n\u001B[0;32m   (...)\u001B[0m\n\u001B[1;32m   3271\u001B[0m \n\u001B[1;32m   3272\u001B[0m \u001B[38;5;124;03m    \"\"\"\u001B[39;00m\n\u001B[0;32m-> 3274\u001B[0m     \u001B[38;5;28;01mreturn\u001B[39;00m \u001B[38;5;28;43mself\u001B[39;49m\u001B[38;5;241;43m.\u001B[39;49m\u001B[43m_connection_cls\u001B[49m\u001B[43m(\u001B[49m\u001B[38;5;28;43mself\u001B[39;49m\u001B[43m)\u001B[49m\n",
      "File \u001B[0;32m~/Library/Caches/pypoetry/virtualenvs/database-aq9O3ZzL-py3.11/lib/python3.11/site-packages/sqlalchemy/engine/base.py:146\u001B[0m, in \u001B[0;36mConnection.__init__\u001B[0;34m(self, engine, connection, _has_events, _allow_revalidate, _allow_autobegin)\u001B[0m\n\u001B[1;32m    144\u001B[0m \u001B[38;5;28;01mif\u001B[39;00m connection \u001B[38;5;129;01mis\u001B[39;00m \u001B[38;5;28;01mNone\u001B[39;00m:\n\u001B[1;32m    145\u001B[0m     \u001B[38;5;28;01mtry\u001B[39;00m:\n\u001B[0;32m--> 146\u001B[0m         \u001B[38;5;28mself\u001B[39m\u001B[38;5;241m.\u001B[39m_dbapi_connection \u001B[38;5;241m=\u001B[39m \u001B[43mengine\u001B[49m\u001B[38;5;241;43m.\u001B[39;49m\u001B[43mraw_connection\u001B[49m\u001B[43m(\u001B[49m\u001B[43m)\u001B[49m\n\u001B[1;32m    147\u001B[0m     \u001B[38;5;28;01mexcept\u001B[39;00m dialect\u001B[38;5;241m.\u001B[39mloaded_dbapi\u001B[38;5;241m.\u001B[39mError \u001B[38;5;28;01mas\u001B[39;00m err:\n\u001B[1;32m    148\u001B[0m         Connection\u001B[38;5;241m.\u001B[39m_handle_dbapi_exception_noconnection(\n\u001B[1;32m    149\u001B[0m             err, dialect, engine\n\u001B[1;32m    150\u001B[0m         )\n",
      "File \u001B[0;32m~/Library/Caches/pypoetry/virtualenvs/database-aq9O3ZzL-py3.11/lib/python3.11/site-packages/sqlalchemy/engine/base.py:3298\u001B[0m, in \u001B[0;36mEngine.raw_connection\u001B[0;34m(self)\u001B[0m\n\u001B[1;32m   3276\u001B[0m \u001B[38;5;28;01mdef\u001B[39;00m\u001B[38;5;250m \u001B[39m\u001B[38;5;21mraw_connection\u001B[39m(\u001B[38;5;28mself\u001B[39m) \u001B[38;5;241m-\u001B[39m\u001B[38;5;241m>\u001B[39m PoolProxiedConnection:\n\u001B[1;32m   3277\u001B[0m \u001B[38;5;250m    \u001B[39m\u001B[38;5;124;03m\"\"\"Return a \"raw\" DBAPI connection from the connection pool.\u001B[39;00m\n\u001B[1;32m   3278\u001B[0m \n\u001B[1;32m   3279\u001B[0m \u001B[38;5;124;03m    The returned object is a proxied version of the DBAPI\u001B[39;00m\n\u001B[0;32m   (...)\u001B[0m\n\u001B[1;32m   3296\u001B[0m \n\u001B[1;32m   3297\u001B[0m \u001B[38;5;124;03m    \"\"\"\u001B[39;00m\n\u001B[0;32m-> 3298\u001B[0m     \u001B[38;5;28;01mreturn\u001B[39;00m \u001B[38;5;28;43mself\u001B[39;49m\u001B[38;5;241;43m.\u001B[39;49m\u001B[43mpool\u001B[49m\u001B[38;5;241;43m.\u001B[39;49m\u001B[43mconnect\u001B[49m\u001B[43m(\u001B[49m\u001B[43m)\u001B[49m\n",
      "File \u001B[0;32m~/Library/Caches/pypoetry/virtualenvs/database-aq9O3ZzL-py3.11/lib/python3.11/site-packages/sqlalchemy/pool/base.py:449\u001B[0m, in \u001B[0;36mPool.connect\u001B[0;34m(self)\u001B[0m\n\u001B[1;32m    441\u001B[0m \u001B[38;5;28;01mdef\u001B[39;00m\u001B[38;5;250m \u001B[39m\u001B[38;5;21mconnect\u001B[39m(\u001B[38;5;28mself\u001B[39m) \u001B[38;5;241m-\u001B[39m\u001B[38;5;241m>\u001B[39m PoolProxiedConnection:\n\u001B[1;32m    442\u001B[0m \u001B[38;5;250m    \u001B[39m\u001B[38;5;124;03m\"\"\"Return a DBAPI connection from the pool.\u001B[39;00m\n\u001B[1;32m    443\u001B[0m \n\u001B[1;32m    444\u001B[0m \u001B[38;5;124;03m    The connection is instrumented such that when its\u001B[39;00m\n\u001B[0;32m   (...)\u001B[0m\n\u001B[1;32m    447\u001B[0m \n\u001B[1;32m    448\u001B[0m \u001B[38;5;124;03m    \"\"\"\u001B[39;00m\n\u001B[0;32m--> 449\u001B[0m     \u001B[38;5;28;01mreturn\u001B[39;00m \u001B[43m_ConnectionFairy\u001B[49m\u001B[38;5;241;43m.\u001B[39;49m\u001B[43m_checkout\u001B[49m\u001B[43m(\u001B[49m\u001B[38;5;28;43mself\u001B[39;49m\u001B[43m)\u001B[49m\n",
      "File \u001B[0;32m~/Library/Caches/pypoetry/virtualenvs/database-aq9O3ZzL-py3.11/lib/python3.11/site-packages/sqlalchemy/pool/base.py:1264\u001B[0m, in \u001B[0;36m_ConnectionFairy._checkout\u001B[0;34m(cls, pool, threadconns, fairy)\u001B[0m\n\u001B[1;32m   1256\u001B[0m \u001B[38;5;129m@classmethod\u001B[39m\n\u001B[1;32m   1257\u001B[0m \u001B[38;5;28;01mdef\u001B[39;00m\u001B[38;5;250m \u001B[39m\u001B[38;5;21m_checkout\u001B[39m(\n\u001B[1;32m   1258\u001B[0m     \u001B[38;5;28mcls\u001B[39m,\n\u001B[0;32m   (...)\u001B[0m\n\u001B[1;32m   1261\u001B[0m     fairy: Optional[_ConnectionFairy] \u001B[38;5;241m=\u001B[39m \u001B[38;5;28;01mNone\u001B[39;00m,\n\u001B[1;32m   1262\u001B[0m ) \u001B[38;5;241m-\u001B[39m\u001B[38;5;241m>\u001B[39m _ConnectionFairy:\n\u001B[1;32m   1263\u001B[0m     \u001B[38;5;28;01mif\u001B[39;00m \u001B[38;5;129;01mnot\u001B[39;00m fairy:\n\u001B[0;32m-> 1264\u001B[0m         fairy \u001B[38;5;241m=\u001B[39m \u001B[43m_ConnectionRecord\u001B[49m\u001B[38;5;241;43m.\u001B[39;49m\u001B[43mcheckout\u001B[49m\u001B[43m(\u001B[49m\u001B[43mpool\u001B[49m\u001B[43m)\u001B[49m\n\u001B[1;32m   1266\u001B[0m         \u001B[38;5;28;01mif\u001B[39;00m threadconns \u001B[38;5;129;01mis\u001B[39;00m \u001B[38;5;129;01mnot\u001B[39;00m \u001B[38;5;28;01mNone\u001B[39;00m:\n\u001B[1;32m   1267\u001B[0m             threadconns\u001B[38;5;241m.\u001B[39mcurrent \u001B[38;5;241m=\u001B[39m weakref\u001B[38;5;241m.\u001B[39mref(fairy)\n",
      "File \u001B[0;32m~/Library/Caches/pypoetry/virtualenvs/database-aq9O3ZzL-py3.11/lib/python3.11/site-packages/sqlalchemy/pool/base.py:718\u001B[0m, in \u001B[0;36m_ConnectionRecord.checkout\u001B[0;34m(cls, pool)\u001B[0m\n\u001B[1;32m    716\u001B[0m     dbapi_connection \u001B[38;5;241m=\u001B[39m rec\u001B[38;5;241m.\u001B[39mget_connection()\n\u001B[1;32m    717\u001B[0m \u001B[38;5;28;01mexcept\u001B[39;00m \u001B[38;5;167;01mBaseException\u001B[39;00m \u001B[38;5;28;01mas\u001B[39;00m err:\n\u001B[0;32m--> 718\u001B[0m \u001B[43m    \u001B[49m\u001B[38;5;28;43;01mwith\u001B[39;49;00m\u001B[43m \u001B[49m\u001B[43mutil\u001B[49m\u001B[38;5;241;43m.\u001B[39;49m\u001B[43msafe_reraise\u001B[49m\u001B[43m(\u001B[49m\u001B[43m)\u001B[49m\u001B[43m:\u001B[49m\n\u001B[1;32m    719\u001B[0m \u001B[43m        \u001B[49m\u001B[43mrec\u001B[49m\u001B[38;5;241;43m.\u001B[39;49m\u001B[43m_checkin_failed\u001B[49m\u001B[43m(\u001B[49m\u001B[43merr\u001B[49m\u001B[43m,\u001B[49m\u001B[43m \u001B[49m\u001B[43m_fairy_was_created\u001B[49m\u001B[38;5;241;43m=\u001B[39;49m\u001B[38;5;28;43;01mFalse\u001B[39;49;00m\u001B[43m)\u001B[49m\n\u001B[1;32m    721\u001B[0m     \u001B[38;5;66;03m# not reached, for code linters only\u001B[39;00m\n",
      "File \u001B[0;32m~/Library/Caches/pypoetry/virtualenvs/database-aq9O3ZzL-py3.11/lib/python3.11/site-packages/sqlalchemy/util/langhelpers.py:146\u001B[0m, in \u001B[0;36msafe_reraise.__exit__\u001B[0;34m(self, type_, value, traceback)\u001B[0m\n\u001B[1;32m    144\u001B[0m     \u001B[38;5;28;01massert\u001B[39;00m exc_value \u001B[38;5;129;01mis\u001B[39;00m \u001B[38;5;129;01mnot\u001B[39;00m \u001B[38;5;28;01mNone\u001B[39;00m\n\u001B[1;32m    145\u001B[0m     \u001B[38;5;28mself\u001B[39m\u001B[38;5;241m.\u001B[39m_exc_info \u001B[38;5;241m=\u001B[39m \u001B[38;5;28;01mNone\u001B[39;00m  \u001B[38;5;66;03m# remove potential circular references\u001B[39;00m\n\u001B[0;32m--> 146\u001B[0m     \u001B[38;5;28;01mraise\u001B[39;00m exc_value\u001B[38;5;241m.\u001B[39mwith_traceback(exc_tb)\n\u001B[1;32m    147\u001B[0m \u001B[38;5;28;01melse\u001B[39;00m:\n\u001B[1;32m    148\u001B[0m     \u001B[38;5;28mself\u001B[39m\u001B[38;5;241m.\u001B[39m_exc_info \u001B[38;5;241m=\u001B[39m \u001B[38;5;28;01mNone\u001B[39;00m  \u001B[38;5;66;03m# remove potential circular references\u001B[39;00m\n",
      "File \u001B[0;32m~/Library/Caches/pypoetry/virtualenvs/database-aq9O3ZzL-py3.11/lib/python3.11/site-packages/sqlalchemy/pool/base.py:716\u001B[0m, in \u001B[0;36m_ConnectionRecord.checkout\u001B[0;34m(cls, pool)\u001B[0m\n\u001B[1;32m    713\u001B[0m     rec \u001B[38;5;241m=\u001B[39m pool\u001B[38;5;241m.\u001B[39m_do_get()\n\u001B[1;32m    715\u001B[0m \u001B[38;5;28;01mtry\u001B[39;00m:\n\u001B[0;32m--> 716\u001B[0m     dbapi_connection \u001B[38;5;241m=\u001B[39m \u001B[43mrec\u001B[49m\u001B[38;5;241;43m.\u001B[39;49m\u001B[43mget_connection\u001B[49m\u001B[43m(\u001B[49m\u001B[43m)\u001B[49m\n\u001B[1;32m    717\u001B[0m \u001B[38;5;28;01mexcept\u001B[39;00m \u001B[38;5;167;01mBaseException\u001B[39;00m \u001B[38;5;28;01mas\u001B[39;00m err:\n\u001B[1;32m    718\u001B[0m     \u001B[38;5;28;01mwith\u001B[39;00m util\u001B[38;5;241m.\u001B[39msafe_reraise():\n",
      "File \u001B[0;32m~/Library/Caches/pypoetry/virtualenvs/database-aq9O3ZzL-py3.11/lib/python3.11/site-packages/sqlalchemy/pool/base.py:867\u001B[0m, in \u001B[0;36m_ConnectionRecord.get_connection\u001B[0;34m(self)\u001B[0m\n\u001B[1;32m    864\u001B[0m     \u001B[38;5;28mself\u001B[39m\u001B[38;5;241m.\u001B[39m__close(terminate\u001B[38;5;241m=\u001B[39m\u001B[38;5;28;01mTrue\u001B[39;00m)\n\u001B[1;32m    865\u001B[0m     \u001B[38;5;28mself\u001B[39m\u001B[38;5;241m.\u001B[39minfo\u001B[38;5;241m.\u001B[39mclear()\n\u001B[0;32m--> 867\u001B[0m     \u001B[38;5;28;43mself\u001B[39;49m\u001B[38;5;241;43m.\u001B[39;49m\u001B[43m__connect\u001B[49m\u001B[43m(\u001B[49m\u001B[43m)\u001B[49m\n\u001B[1;32m    869\u001B[0m \u001B[38;5;28;01massert\u001B[39;00m \u001B[38;5;28mself\u001B[39m\u001B[38;5;241m.\u001B[39mdbapi_connection \u001B[38;5;129;01mis\u001B[39;00m \u001B[38;5;129;01mnot\u001B[39;00m \u001B[38;5;28;01mNone\u001B[39;00m\n\u001B[1;32m    870\u001B[0m \u001B[38;5;28;01mreturn\u001B[39;00m \u001B[38;5;28mself\u001B[39m\u001B[38;5;241m.\u001B[39mdbapi_connection\n",
      "File \u001B[0;32m~/Library/Caches/pypoetry/virtualenvs/database-aq9O3ZzL-py3.11/lib/python3.11/site-packages/sqlalchemy/pool/base.py:901\u001B[0m, in \u001B[0;36m_ConnectionRecord.__connect\u001B[0;34m(self)\u001B[0m\n\u001B[1;32m    899\u001B[0m     \u001B[38;5;28mself\u001B[39m\u001B[38;5;241m.\u001B[39mfresh \u001B[38;5;241m=\u001B[39m \u001B[38;5;28;01mTrue\u001B[39;00m\n\u001B[1;32m    900\u001B[0m \u001B[38;5;28;01mexcept\u001B[39;00m \u001B[38;5;167;01mBaseException\u001B[39;00m \u001B[38;5;28;01mas\u001B[39;00m e:\n\u001B[0;32m--> 901\u001B[0m \u001B[43m    \u001B[49m\u001B[38;5;28;43;01mwith\u001B[39;49;00m\u001B[43m \u001B[49m\u001B[43mutil\u001B[49m\u001B[38;5;241;43m.\u001B[39;49m\u001B[43msafe_reraise\u001B[49m\u001B[43m(\u001B[49m\u001B[43m)\u001B[49m\u001B[43m:\u001B[49m\n\u001B[1;32m    902\u001B[0m \u001B[43m        \u001B[49m\u001B[43mpool\u001B[49m\u001B[38;5;241;43m.\u001B[39;49m\u001B[43mlogger\u001B[49m\u001B[38;5;241;43m.\u001B[39;49m\u001B[43mdebug\u001B[49m\u001B[43m(\u001B[49m\u001B[38;5;124;43m\"\u001B[39;49m\u001B[38;5;124;43mError on connect(): \u001B[39;49m\u001B[38;5;132;43;01m%s\u001B[39;49;00m\u001B[38;5;124;43m\"\u001B[39;49m\u001B[43m,\u001B[49m\u001B[43m \u001B[49m\u001B[43me\u001B[49m\u001B[43m)\u001B[49m\n\u001B[1;32m    903\u001B[0m \u001B[38;5;28;01melse\u001B[39;00m:\n\u001B[1;32m    904\u001B[0m     \u001B[38;5;66;03m# in SQLAlchemy 1.4 the first_connect event is not used by\u001B[39;00m\n\u001B[1;32m    905\u001B[0m     \u001B[38;5;66;03m# the engine, so this will usually not be set\u001B[39;00m\n",
      "File \u001B[0;32m~/Library/Caches/pypoetry/virtualenvs/database-aq9O3ZzL-py3.11/lib/python3.11/site-packages/sqlalchemy/util/langhelpers.py:146\u001B[0m, in \u001B[0;36msafe_reraise.__exit__\u001B[0;34m(self, type_, value, traceback)\u001B[0m\n\u001B[1;32m    144\u001B[0m     \u001B[38;5;28;01massert\u001B[39;00m exc_value \u001B[38;5;129;01mis\u001B[39;00m \u001B[38;5;129;01mnot\u001B[39;00m \u001B[38;5;28;01mNone\u001B[39;00m\n\u001B[1;32m    145\u001B[0m     \u001B[38;5;28mself\u001B[39m\u001B[38;5;241m.\u001B[39m_exc_info \u001B[38;5;241m=\u001B[39m \u001B[38;5;28;01mNone\u001B[39;00m  \u001B[38;5;66;03m# remove potential circular references\u001B[39;00m\n\u001B[0;32m--> 146\u001B[0m     \u001B[38;5;28;01mraise\u001B[39;00m exc_value\u001B[38;5;241m.\u001B[39mwith_traceback(exc_tb)\n\u001B[1;32m    147\u001B[0m \u001B[38;5;28;01melse\u001B[39;00m:\n\u001B[1;32m    148\u001B[0m     \u001B[38;5;28mself\u001B[39m\u001B[38;5;241m.\u001B[39m_exc_info \u001B[38;5;241m=\u001B[39m \u001B[38;5;28;01mNone\u001B[39;00m  \u001B[38;5;66;03m# remove potential circular references\u001B[39;00m\n",
      "File \u001B[0;32m~/Library/Caches/pypoetry/virtualenvs/database-aq9O3ZzL-py3.11/lib/python3.11/site-packages/sqlalchemy/pool/base.py:897\u001B[0m, in \u001B[0;36m_ConnectionRecord.__connect\u001B[0;34m(self)\u001B[0m\n\u001B[1;32m    895\u001B[0m \u001B[38;5;28;01mtry\u001B[39;00m:\n\u001B[1;32m    896\u001B[0m     \u001B[38;5;28mself\u001B[39m\u001B[38;5;241m.\u001B[39mstarttime \u001B[38;5;241m=\u001B[39m time\u001B[38;5;241m.\u001B[39mtime()\n\u001B[0;32m--> 897\u001B[0m     \u001B[38;5;28mself\u001B[39m\u001B[38;5;241m.\u001B[39mdbapi_connection \u001B[38;5;241m=\u001B[39m connection \u001B[38;5;241m=\u001B[39m \u001B[43mpool\u001B[49m\u001B[38;5;241;43m.\u001B[39;49m\u001B[43m_invoke_creator\u001B[49m\u001B[43m(\u001B[49m\u001B[38;5;28;43mself\u001B[39;49m\u001B[43m)\u001B[49m\n\u001B[1;32m    898\u001B[0m     pool\u001B[38;5;241m.\u001B[39mlogger\u001B[38;5;241m.\u001B[39mdebug(\u001B[38;5;124m\"\u001B[39m\u001B[38;5;124mCreated new connection \u001B[39m\u001B[38;5;132;01m%r\u001B[39;00m\u001B[38;5;124m\"\u001B[39m, connection)\n\u001B[1;32m    899\u001B[0m     \u001B[38;5;28mself\u001B[39m\u001B[38;5;241m.\u001B[39mfresh \u001B[38;5;241m=\u001B[39m \u001B[38;5;28;01mTrue\u001B[39;00m\n",
      "File \u001B[0;32m~/Library/Caches/pypoetry/virtualenvs/database-aq9O3ZzL-py3.11/lib/python3.11/site-packages/sqlalchemy/pool/base.py:362\u001B[0m, in \u001B[0;36mPool._should_wrap_creator.<locals>.<lambda>\u001B[0;34m(rec)\u001B[0m\n\u001B[1;32m    358\u001B[0m \u001B[38;5;66;03m# all other cases, just wrap and assume legacy \"creator\" callable\u001B[39;00m\n\u001B[1;32m    359\u001B[0m \u001B[38;5;66;03m# thing\u001B[39;00m\n\u001B[1;32m    360\u001B[0m \u001B[38;5;28;01melse\u001B[39;00m:\n\u001B[1;32m    361\u001B[0m     creator_fn \u001B[38;5;241m=\u001B[39m cast(_CreatorFnType, creator)\n\u001B[0;32m--> 362\u001B[0m     \u001B[38;5;28;01mreturn\u001B[39;00m \u001B[38;5;28;01mlambda\u001B[39;00m rec: \u001B[43mcreator_fn\u001B[49m\u001B[43m(\u001B[49m\u001B[43m)\u001B[49m\n",
      "File \u001B[0;32m~/projects/Untitled/zando/fastapi_migration/database/google_session.py:60\u001B[0m, in \u001B[0;36mgetconn\u001B[0;34m()\u001B[0m\n",
      "File \u001B[0;32m~/Library/Caches/pypoetry/virtualenvs/database-aq9O3ZzL-py3.11/lib/python3.11/site-packages/google/cloud/sql/connector/connector.py:250\u001B[0m, in \u001B[0;36mConnector.connect\u001B[0;34m(self, instance_connection_string, driver, **kwargs)\u001B[0m\n\u001B[1;32m    243\u001B[0m \u001B[38;5;66;03m# connect runs sync database connections on background thread.\u001B[39;00m\n\u001B[1;32m    244\u001B[0m \u001B[38;5;66;03m# Async database connections should call 'connect_async' directly to\u001B[39;00m\n\u001B[1;32m    245\u001B[0m \u001B[38;5;66;03m# avoid hanging indefinitely.\u001B[39;00m\n\u001B[1;32m    246\u001B[0m connect_future \u001B[38;5;241m=\u001B[39m asyncio\u001B[38;5;241m.\u001B[39mrun_coroutine_threadsafe(\n\u001B[1;32m    247\u001B[0m     \u001B[38;5;28mself\u001B[39m\u001B[38;5;241m.\u001B[39mconnect_async(instance_connection_string, driver, \u001B[38;5;241m*\u001B[39m\u001B[38;5;241m*\u001B[39mkwargs),\n\u001B[1;32m    248\u001B[0m     \u001B[38;5;28mself\u001B[39m\u001B[38;5;241m.\u001B[39m_loop,\n\u001B[1;32m    249\u001B[0m )\n\u001B[0;32m--> 250\u001B[0m \u001B[38;5;28;01mreturn\u001B[39;00m \u001B[43mconnect_future\u001B[49m\u001B[38;5;241;43m.\u001B[39;49m\u001B[43mresult\u001B[49m\u001B[43m(\u001B[49m\u001B[43m)\u001B[49m\n",
      "File \u001B[0;32m/opt/homebrew/Cellar/python@3.11/3.11.5/Frameworks/Python.framework/Versions/3.11/lib/python3.11/concurrent/futures/_base.py:456\u001B[0m, in \u001B[0;36mFuture.result\u001B[0;34m(self, timeout)\u001B[0m\n\u001B[1;32m    454\u001B[0m     \u001B[38;5;28;01mraise\u001B[39;00m CancelledError()\n\u001B[1;32m    455\u001B[0m \u001B[38;5;28;01melif\u001B[39;00m \u001B[38;5;28mself\u001B[39m\u001B[38;5;241m.\u001B[39m_state \u001B[38;5;241m==\u001B[39m FINISHED:\n\u001B[0;32m--> 456\u001B[0m     \u001B[38;5;28;01mreturn\u001B[39;00m \u001B[38;5;28;43mself\u001B[39;49m\u001B[38;5;241;43m.\u001B[39;49m\u001B[43m__get_result\u001B[49m\u001B[43m(\u001B[49m\u001B[43m)\u001B[49m\n\u001B[1;32m    457\u001B[0m \u001B[38;5;28;01melse\u001B[39;00m:\n\u001B[1;32m    458\u001B[0m     \u001B[38;5;28;01mraise\u001B[39;00m \u001B[38;5;167;01mTimeoutError\u001B[39;00m()\n",
      "File \u001B[0;32m/opt/homebrew/Cellar/python@3.11/3.11.5/Frameworks/Python.framework/Versions/3.11/lib/python3.11/concurrent/futures/_base.py:401\u001B[0m, in \u001B[0;36mFuture.__get_result\u001B[0;34m(self)\u001B[0m\n\u001B[1;32m    399\u001B[0m \u001B[38;5;28;01mif\u001B[39;00m \u001B[38;5;28mself\u001B[39m\u001B[38;5;241m.\u001B[39m_exception:\n\u001B[1;32m    400\u001B[0m     \u001B[38;5;28;01mtry\u001B[39;00m:\n\u001B[0;32m--> 401\u001B[0m         \u001B[38;5;28;01mraise\u001B[39;00m \u001B[38;5;28mself\u001B[39m\u001B[38;5;241m.\u001B[39m_exception\n\u001B[1;32m    402\u001B[0m     \u001B[38;5;28;01mfinally\u001B[39;00m:\n\u001B[1;32m    403\u001B[0m         \u001B[38;5;66;03m# Break a reference cycle with the exception in self._exception\u001B[39;00m\n\u001B[1;32m    404\u001B[0m         \u001B[38;5;28mself\u001B[39m \u001B[38;5;241m=\u001B[39m \u001B[38;5;28;01mNone\u001B[39;00m\n",
      "File \u001B[0;32m~/Library/Caches/pypoetry/virtualenvs/database-aq9O3ZzL-py3.11/lib/python3.11/site-packages/google/cloud/sql/connector/connector.py:360\u001B[0m, in \u001B[0;36mConnector.connect_async\u001B[0;34m(self, instance_connection_string, driver, **kwargs)\u001B[0m\n\u001B[1;32m    358\u001B[0m \u001B[38;5;66;03m# attempt to get connection info for Cloud SQL instance\u001B[39;00m\n\u001B[1;32m    359\u001B[0m \u001B[38;5;28;01mtry\u001B[39;00m:\n\u001B[0;32m--> 360\u001B[0m     conn_info \u001B[38;5;241m=\u001B[39m \u001B[38;5;28;01mawait\u001B[39;00m monitored_cache\u001B[38;5;241m.\u001B[39mconnect_info()\n\u001B[1;32m    361\u001B[0m     \u001B[38;5;66;03m# validate driver matches intended database engine\u001B[39;00m\n\u001B[1;32m    362\u001B[0m     DriverMapping\u001B[38;5;241m.\u001B[39mvalidate_engine(driver, conn_info\u001B[38;5;241m.\u001B[39mdatabase_version)\n",
      "File \u001B[0;32m~/Library/Caches/pypoetry/virtualenvs/database-aq9O3ZzL-py3.11/lib/python3.11/site-packages/google/cloud/sql/connector/monitored_cache.py:103\u001B[0m, in \u001B[0;36mMonitoredCache.connect_info\u001B[0;34m(self)\u001B[0m\n\u001B[1;32m     99\u001B[0m \u001B[38;5;28;01mif\u001B[39;00m \u001B[38;5;28mself\u001B[39m\u001B[38;5;241m.\u001B[39mclosed:\n\u001B[1;32m    100\u001B[0m     \u001B[38;5;28;01mraise\u001B[39;00m CacheClosedError(\n\u001B[1;32m    101\u001B[0m         \u001B[38;5;124m\"\u001B[39m\u001B[38;5;124mCan not get connection info, cache has already been closed.\u001B[39m\u001B[38;5;124m\"\u001B[39m\n\u001B[1;32m    102\u001B[0m     )\n\u001B[0;32m--> 103\u001B[0m \u001B[38;5;28;01mreturn\u001B[39;00m \u001B[38;5;28;01mawait\u001B[39;00m \u001B[38;5;28mself\u001B[39m\u001B[38;5;241m.\u001B[39mcache\u001B[38;5;241m.\u001B[39mconnect_info()\n",
      "File \u001B[0;32m~/Library/Caches/pypoetry/virtualenvs/database-aq9O3ZzL-py3.11/lib/python3.11/site-packages/google/cloud/sql/connector/lazy.py:107\u001B[0m, in \u001B[0;36mLazyRefreshCache.connect_info\u001B[0;34m(self)\u001B[0m\n\u001B[1;32m    103\u001B[0m logger\u001B[38;5;241m.\u001B[39mdebug(\n\u001B[1;32m    104\u001B[0m     \u001B[38;5;124mf\u001B[39m\u001B[38;5;124m\"\u001B[39m\u001B[38;5;124m[\u001B[39m\u001B[38;5;124m'\u001B[39m\u001B[38;5;132;01m{\u001B[39;00m\u001B[38;5;28mself\u001B[39m\u001B[38;5;241m.\u001B[39m_conn_name\u001B[38;5;132;01m}\u001B[39;00m\u001B[38;5;124m'\u001B[39m\u001B[38;5;124m]: Connection info \u001B[39m\u001B[38;5;124m\"\u001B[39m \u001B[38;5;124m\"\u001B[39m\u001B[38;5;124mrefresh operation started\u001B[39m\u001B[38;5;124m\"\u001B[39m\n\u001B[1;32m    105\u001B[0m )\n\u001B[1;32m    106\u001B[0m \u001B[38;5;28;01mtry\u001B[39;00m:\n\u001B[0;32m--> 107\u001B[0m     conn_info \u001B[38;5;241m=\u001B[39m \u001B[38;5;28;01mawait\u001B[39;00m \u001B[38;5;28mself\u001B[39m\u001B[38;5;241m.\u001B[39m_client\u001B[38;5;241m.\u001B[39mget_connection_info(\n\u001B[1;32m    108\u001B[0m         \u001B[38;5;28mself\u001B[39m\u001B[38;5;241m.\u001B[39m_conn_name,\n\u001B[1;32m    109\u001B[0m         \u001B[38;5;28mself\u001B[39m\u001B[38;5;241m.\u001B[39m_keys,\n\u001B[1;32m    110\u001B[0m         \u001B[38;5;28mself\u001B[39m\u001B[38;5;241m.\u001B[39m_enable_iam_auth,\n\u001B[1;32m    111\u001B[0m     )\n\u001B[1;32m    112\u001B[0m \u001B[38;5;28;01mexcept\u001B[39;00m \u001B[38;5;167;01mException\u001B[39;00m \u001B[38;5;28;01mas\u001B[39;00m e:\n\u001B[1;32m    113\u001B[0m     logger\u001B[38;5;241m.\u001B[39mdebug(\n\u001B[1;32m    114\u001B[0m         \u001B[38;5;124mf\u001B[39m\u001B[38;5;124m\"\u001B[39m\u001B[38;5;124m[\u001B[39m\u001B[38;5;124m'\u001B[39m\u001B[38;5;132;01m{\u001B[39;00m\u001B[38;5;28mself\u001B[39m\u001B[38;5;241m.\u001B[39m_conn_name\u001B[38;5;132;01m}\u001B[39;00m\u001B[38;5;124m'\u001B[39m\u001B[38;5;124m]: Connection info \u001B[39m\u001B[38;5;124m\"\u001B[39m\n\u001B[1;32m    115\u001B[0m         \u001B[38;5;124mf\u001B[39m\u001B[38;5;124m\"\u001B[39m\u001B[38;5;124mrefresh operation failed: \u001B[39m\u001B[38;5;132;01m{\u001B[39;00m\u001B[38;5;28mstr\u001B[39m(e)\u001B[38;5;132;01m}\u001B[39;00m\u001B[38;5;124m\"\u001B[39m\n\u001B[1;32m    116\u001B[0m     )\n",
      "File \u001B[0;32m~/Library/Caches/pypoetry/virtualenvs/database-aq9O3ZzL-py3.11/lib/python3.11/site-packages/google/cloud/sql/connector/client.py:287\u001B[0m, in \u001B[0;36mCloudSQLClient.get_connection_info\u001B[0;34m(self, conn_name, keys, enable_iam_auth)\u001B[0m\n\u001B[1;32m    285\u001B[0m \u001B[38;5;66;03m# before making Cloud SQL Admin API calls, refresh creds if required\u001B[39;00m\n\u001B[1;32m    286\u001B[0m \u001B[38;5;28;01mif\u001B[39;00m \u001B[38;5;129;01mnot\u001B[39;00m \u001B[38;5;28mself\u001B[39m\u001B[38;5;241m.\u001B[39m_credentials\u001B[38;5;241m.\u001B[39mtoken_state \u001B[38;5;241m==\u001B[39m TokenState\u001B[38;5;241m.\u001B[39mFRESH:\n\u001B[0;32m--> 287\u001B[0m     \u001B[38;5;28;43mself\u001B[39;49m\u001B[38;5;241;43m.\u001B[39;49m\u001B[43m_credentials\u001B[49m\u001B[38;5;241;43m.\u001B[39;49m\u001B[43mrefresh\u001B[49m\u001B[43m(\u001B[49m\u001B[43mrequests\u001B[49m\u001B[38;5;241;43m.\u001B[39;49m\u001B[43mRequest\u001B[49m\u001B[43m(\u001B[49m\u001B[43m)\u001B[49m\u001B[43m)\u001B[49m\n\u001B[1;32m    289\u001B[0m metadata_task \u001B[38;5;241m=\u001B[39m asyncio\u001B[38;5;241m.\u001B[39mcreate_task(\n\u001B[1;32m    290\u001B[0m     \u001B[38;5;28mself\u001B[39m\u001B[38;5;241m.\u001B[39m_get_metadata(\n\u001B[1;32m    291\u001B[0m         conn_name\u001B[38;5;241m.\u001B[39mproject,\n\u001B[0;32m   (...)\u001B[0m\n\u001B[1;32m    294\u001B[0m     )\n\u001B[1;32m    295\u001B[0m )\n\u001B[1;32m    297\u001B[0m ephemeral_task \u001B[38;5;241m=\u001B[39m asyncio\u001B[38;5;241m.\u001B[39mcreate_task(\n\u001B[1;32m    298\u001B[0m     \u001B[38;5;28mself\u001B[39m\u001B[38;5;241m.\u001B[39m_get_ephemeral(\n\u001B[1;32m    299\u001B[0m         conn_name\u001B[38;5;241m.\u001B[39mproject,\n\u001B[0;32m   (...)\u001B[0m\n\u001B[1;32m    303\u001B[0m     )\n\u001B[1;32m    304\u001B[0m )\n",
      "File \u001B[0;32m~/Library/Caches/pypoetry/virtualenvs/database-aq9O3ZzL-py3.11/lib/python3.11/site-packages/google/oauth2/credentials.py:409\u001B[0m, in \u001B[0;36mCredentials.refresh\u001B[0;34m(self, request)\u001B[0m\n\u001B[1;32m    391\u001B[0m \u001B[38;5;28;01mif\u001B[39;00m (\n\u001B[1;32m    392\u001B[0m     \u001B[38;5;28mself\u001B[39m\u001B[38;5;241m.\u001B[39m_refresh_token \u001B[38;5;129;01mis\u001B[39;00m \u001B[38;5;28;01mNone\u001B[39;00m\n\u001B[1;32m    393\u001B[0m     \u001B[38;5;129;01mor\u001B[39;00m \u001B[38;5;28mself\u001B[39m\u001B[38;5;241m.\u001B[39m_token_uri \u001B[38;5;129;01mis\u001B[39;00m \u001B[38;5;28;01mNone\u001B[39;00m\n\u001B[1;32m    394\u001B[0m     \u001B[38;5;129;01mor\u001B[39;00m \u001B[38;5;28mself\u001B[39m\u001B[38;5;241m.\u001B[39m_client_id \u001B[38;5;129;01mis\u001B[39;00m \u001B[38;5;28;01mNone\u001B[39;00m\n\u001B[1;32m    395\u001B[0m     \u001B[38;5;129;01mor\u001B[39;00m \u001B[38;5;28mself\u001B[39m\u001B[38;5;241m.\u001B[39m_client_secret \u001B[38;5;129;01mis\u001B[39;00m \u001B[38;5;28;01mNone\u001B[39;00m\n\u001B[1;32m    396\u001B[0m ):\n\u001B[1;32m    397\u001B[0m     \u001B[38;5;28;01mraise\u001B[39;00m exceptions\u001B[38;5;241m.\u001B[39mRefreshError(\n\u001B[1;32m    398\u001B[0m         \u001B[38;5;124m\"\u001B[39m\u001B[38;5;124mThe credentials do not contain the necessary fields need to \u001B[39m\u001B[38;5;124m\"\u001B[39m\n\u001B[1;32m    399\u001B[0m         \u001B[38;5;124m\"\u001B[39m\u001B[38;5;124mrefresh the access token. You must specify refresh_token, \u001B[39m\u001B[38;5;124m\"\u001B[39m\n\u001B[1;32m    400\u001B[0m         \u001B[38;5;124m\"\u001B[39m\u001B[38;5;124mtoken_uri, client_id, and client_secret.\u001B[39m\u001B[38;5;124m\"\u001B[39m\n\u001B[1;32m    401\u001B[0m     )\n\u001B[1;32m    403\u001B[0m (\n\u001B[1;32m    404\u001B[0m     access_token,\n\u001B[1;32m    405\u001B[0m     refresh_token,\n\u001B[1;32m    406\u001B[0m     expiry,\n\u001B[1;32m    407\u001B[0m     grant_response,\n\u001B[1;32m    408\u001B[0m     rapt_token,\n\u001B[0;32m--> 409\u001B[0m ) \u001B[38;5;241m=\u001B[39m \u001B[43mreauth\u001B[49m\u001B[38;5;241;43m.\u001B[39;49m\u001B[43mrefresh_grant\u001B[49m\u001B[43m(\u001B[49m\n\u001B[1;32m    410\u001B[0m \u001B[43m    \u001B[49m\u001B[43mrequest\u001B[49m\u001B[43m,\u001B[49m\n\u001B[1;32m    411\u001B[0m \u001B[43m    \u001B[49m\u001B[38;5;28;43mself\u001B[39;49m\u001B[38;5;241;43m.\u001B[39;49m\u001B[43m_token_uri\u001B[49m\u001B[43m,\u001B[49m\n\u001B[1;32m    412\u001B[0m \u001B[43m    \u001B[49m\u001B[38;5;28;43mself\u001B[39;49m\u001B[38;5;241;43m.\u001B[39;49m\u001B[43m_refresh_token\u001B[49m\u001B[43m,\u001B[49m\n\u001B[1;32m    413\u001B[0m \u001B[43m    \u001B[49m\u001B[38;5;28;43mself\u001B[39;49m\u001B[38;5;241;43m.\u001B[39;49m\u001B[43m_client_id\u001B[49m\u001B[43m,\u001B[49m\n\u001B[1;32m    414\u001B[0m \u001B[43m    \u001B[49m\u001B[38;5;28;43mself\u001B[39;49m\u001B[38;5;241;43m.\u001B[39;49m\u001B[43m_client_secret\u001B[49m\u001B[43m,\u001B[49m\n\u001B[1;32m    415\u001B[0m \u001B[43m    \u001B[49m\u001B[43mscopes\u001B[49m\u001B[38;5;241;43m=\u001B[39;49m\u001B[43mscopes\u001B[49m\u001B[43m,\u001B[49m\n\u001B[1;32m    416\u001B[0m \u001B[43m    \u001B[49m\u001B[43mrapt_token\u001B[49m\u001B[38;5;241;43m=\u001B[39;49m\u001B[38;5;28;43mself\u001B[39;49m\u001B[38;5;241;43m.\u001B[39;49m\u001B[43m_rapt_token\u001B[49m\u001B[43m,\u001B[49m\n\u001B[1;32m    417\u001B[0m \u001B[43m    \u001B[49m\u001B[43menable_reauth_refresh\u001B[49m\u001B[38;5;241;43m=\u001B[39;49m\u001B[38;5;28;43mself\u001B[39;49m\u001B[38;5;241;43m.\u001B[39;49m\u001B[43m_enable_reauth_refresh\u001B[49m\u001B[43m,\u001B[49m\n\u001B[1;32m    418\u001B[0m \u001B[43m\u001B[49m\u001B[43m)\u001B[49m\n\u001B[1;32m    420\u001B[0m \u001B[38;5;28mself\u001B[39m\u001B[38;5;241m.\u001B[39mtoken \u001B[38;5;241m=\u001B[39m access_token\n\u001B[1;32m    421\u001B[0m \u001B[38;5;28mself\u001B[39m\u001B[38;5;241m.\u001B[39mexpiry \u001B[38;5;241m=\u001B[39m expiry\n",
      "File \u001B[0;32m~/Library/Caches/pypoetry/virtualenvs/database-aq9O3ZzL-py3.11/lib/python3.11/site-packages/google/oauth2/reauth.py:349\u001B[0m, in \u001B[0;36mrefresh_grant\u001B[0;34m(request, token_uri, refresh_token, client_id, client_secret, scopes, rapt_token, enable_reauth_refresh)\u001B[0m\n\u001B[1;32m    340\u001B[0m \u001B[38;5;28;01mif\u001B[39;00m (\n\u001B[1;32m    341\u001B[0m     \u001B[38;5;129;01mnot\u001B[39;00m response_status_ok\n\u001B[1;32m    342\u001B[0m     \u001B[38;5;129;01mand\u001B[39;00m response_data\u001B[38;5;241m.\u001B[39mget(\u001B[38;5;124m\"\u001B[39m\u001B[38;5;124merror\u001B[39m\u001B[38;5;124m\"\u001B[39m) \u001B[38;5;241m==\u001B[39m _REAUTH_NEEDED_ERROR\n\u001B[0;32m   (...)\u001B[0m\n\u001B[1;32m    346\u001B[0m     )\n\u001B[1;32m    347\u001B[0m ):\n\u001B[1;32m    348\u001B[0m     \u001B[38;5;28;01mif\u001B[39;00m \u001B[38;5;129;01mnot\u001B[39;00m enable_reauth_refresh:\n\u001B[0;32m--> 349\u001B[0m         \u001B[38;5;28;01mraise\u001B[39;00m exceptions\u001B[38;5;241m.\u001B[39mRefreshError(\n\u001B[1;32m    350\u001B[0m             \u001B[38;5;124m\"\u001B[39m\u001B[38;5;124mReauthentication is needed. Please run `gcloud auth application-default login` to reauthenticate.\u001B[39m\u001B[38;5;124m\"\u001B[39m\n\u001B[1;32m    351\u001B[0m         )\n\u001B[1;32m    353\u001B[0m     rapt_token \u001B[38;5;241m=\u001B[39m get_rapt_token(\n\u001B[1;32m    354\u001B[0m         request, client_id, client_secret, refresh_token, token_uri, scopes\u001B[38;5;241m=\u001B[39mscopes\n\u001B[1;32m    355\u001B[0m     )\n\u001B[1;32m    356\u001B[0m     body[\u001B[38;5;124m\"\u001B[39m\u001B[38;5;124mrapt\u001B[39m\u001B[38;5;124m\"\u001B[39m] \u001B[38;5;241m=\u001B[39m rapt_token\n",
      "\u001B[0;31mRefreshError\u001B[0m: Reauthentication is needed. Please run `gcloud auth application-default login` to reauthenticate."
     ]
    }
   ],
   "execution_count": 26
  },
  {
   "metadata": {},
   "cell_type": "code",
   "source": [
    "# drop_table_test.py\n",
    "from google_session import SyncSessionLocal  # or import engine directly if available\n",
    "\n",
    "# Get the engine from the sessionmaker\n",
    "engine = SyncSessionLocal.kw[\"bind\"]  # Only works if SyncSessionLocal is sessionmaker(bind=engine)\n",
    "\n",
    "# Drop the tables\n",
    "Base.metadata.drop_all(bind=engine)\n",
    "\n",
    "print(\"Table(s) dropped successfully.\")"
   ],
   "id": "dcfa2256704746a8",
   "outputs": [],
   "execution_count": null
  },
  {
   "metadata": {},
   "cell_type": "code",
   "source": [
    "# Get the engine from the sessionmaker\n",
    "engine = SyncSessionLocal.kw[\"bind\"]  # Only works if SyncSessionLocal is sessionmaker(bind=engine)\n",
    "\n",
    "# Drop the tables\n",
    "Base.metadata.drop_all(bind=engine)\n",
    "\n",
    "print(\"Table(s) dropped successfully.\")"
   ],
   "id": "cddde95602c9fee7",
   "outputs": [],
   "execution_count": null
  },
  {
   "metadata": {},
   "cell_type": "code",
   "source": [
    "from dependencies import get_db\n",
    "db = get_db()\n"
   ],
   "id": "82733c274dffd44e",
   "outputs": [],
   "execution_count": null
  },
  {
   "cell_type": "code",
   "id": "initial_id",
   "metadata": {
    "collapsed": true
   },
   "source": [
    "import os\n",
    "import logging\n",
    "import sqlalchemy\n",
    "from sqlalchemy.ext.asyncio import AsyncSession\n",
    "from sqlalchemy.ext.declarative import declarative_base\n",
    "from sqlalchemy.orm import sessionmaker\n",
    "\n",
    "from google.cloud.sql.connector import Connector, IPTypes\n",
    "import pg8000\n",
    "\n",
    "_engine = None\n",
    "\n",
    "def get_db_engine() -> sqlalchemy.engine.base.Engine:\n",
    "    \"\"\"\n",
    "    Returns a global SQLAlchemy engine instance with connection pooling.\n",
    "\n",
    "    This creates a singleton engine that can be reused across requests,\n",
    "    improving performance by avoiding repeated connection establishment.\n",
    "\n",
    "    Returns:\n",
    "        SQLAlchemy engine with connection pooling\n",
    "    \"\"\"\n",
    "    global _engine\n",
    "\n",
    "    if _engine is not None:\n",
    "        # Return existing engine if already created\n",
    "        return _engine\n",
    "\n",
    "    # Check if we're running in GCP environment\n",
    "    if os.environ.get(\"INSTANCE_CONNECTION_NAME\"):\n",
    "        # Create Cloud SQL connection using the connector\n",
    "        instance_connection_name = settings.INSTANCE_CONNECTION_NAME\n",
    "        db_user = settings.DB_USER\n",
    "        db_pass = settings.DB_PASS\n",
    "        db_name = settings.DB_NAME\n",
    "        # db_user = os.environ.get(\"DB_USER\", settings.DB_USER)\n",
    "        # db_pass = os.environ.get(\"DB_PASS\", settings.DB_PASS)\n",
    "        # db_name = os.environ.get(\"DB_NAME\", settings.DB_NAME)\n",
    "\n",
    "        ip_type = IPTypes.PRIVATE if os.environ.get(\"PRIVATE_IP\") else IPTypes.PUBLIC\n",
    "\n",
    "        connector = Connector(refresh_strategy=\"LAZY\")\n",
    "\n",
    "        def getconn() -> pg8000.dbapi.Connection:\n",
    "            conn = connector.connect(\n",
    "                instance_connection_name,\n",
    "                \"pg8000\",\n",
    "                user=db_user,\n",
    "                password=db_pass,\n",
    "                db=db_name,\n",
    "                ip_type=ip_type,\n",
    "            )\n",
    "            return conn\n",
    "\n",
    "        # Configure pooling parameters for better performance\n",
    "        _engine = sqlalchemy.create_engine(\n",
    "            \"postgresql+pg8000://\",\n",
    "            creator=getconn,\n",
    "            # Pool settings\n",
    "            pool_size=5,               # Default number of connections to maintain\n",
    "            max_overflow=10,           # Allow up to 10 additional connections on high load\n",
    "            pool_timeout=30,           # Wait up to 30 seconds for a connection\n",
    "            pool_recycle=1800,         # Recycle connections after 30 minutes\n",
    "            pool_pre_ping=True         # Check connection viability before using\n",
    "        )\n",
    "\n",
    "        logging.info(\"Google Cloud SQL connection pool initialized\")\n",
    "    else:\n",
    "        raise ValueError('No instance connection provided')\n",
    "\n",
    "    return _engine\n",
    "\n",
    "get_db_engine()"
   ],
   "outputs": [],
   "execution_count": null
  },
  {
   "metadata": {},
   "cell_type": "code",
   "source": "with _engine.session()",
   "id": "e7700d915aabee16",
   "outputs": [],
   "execution_count": null
  }
 ],
 "metadata": {
  "kernelspec": {
   "display_name": "zando-database",
   "language": "python",
   "name": "zando-database"
  },
  "language_info": {
   "codemirror_mode": {
    "name": "ipython",
    "version": 2
   },
   "file_extension": ".py",
   "mimetype": "text/x-python",
   "name": "python",
   "nbconvert_exporter": "python",
   "pygments_lexer": "ipython2",
   "version": "2.7.6"
  }
 },
 "nbformat": 4,
 "nbformat_minor": 5
}
